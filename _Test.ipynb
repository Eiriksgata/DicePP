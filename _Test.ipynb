{
 "cells": [
  {
   "cell_type": "code",
   "execution_count": 1,
   "metadata": {},
   "outputs": [],
   "source": [
    "# import importlib\n",
    "\n",
    "import numpy as np\n",
    "import datetime\n",
    "\n",
    "import plugins.custom_config as custom_config\n",
    "import plugins.bot_tool as bot_tool\n",
    "# from bot_tool import *\n",
    "import plugins.dice_tool as dice_tool\n",
    "import plugins.help_info as help_info\n",
    "# from dice_tool import *\n",
    "import plugins.utils as utils\n",
    "\n",
    "# importlib.reload(bot_tool)\n",
    "# importlib.reload(dice_tool)\n",
    "# importlib.reload(utils)"
   ]
  },
  {
   "cell_type": "code",
   "execution_count": 2,
   "metadata": {},
   "outputs": [],
   "source": [
    "assert utils.ChineseToEnglishSymbol('。') == '.'\n",
    "assert utils.ChineseToEnglishSymbol('.') == '.'\n",
    "assert utils.int2str(4) == '+4'\n",
    "assert utils.int2str(0) == '+0'\n",
    "assert utils.int2str(-1) == '-1'\n",
    "\n",
    "assert bot_tool.ParseInput('.rd20').equal(utils.Command(utils.CommandType.Roll, ['d20', '']))\n",
    "assert bot_tool.ParseInput(' . r D20 reason').equal(utils.Command(utils.CommandType.Roll, ['d20', 'reason']))\n",
    "assert bot_tool.ParseInput('.r').equal(utils.Command(utils.CommandType.Roll, ['', '']))\n",
    "assert bot_tool.ParseInput('abc') is None\n",
    "assert bot_tool.ParseInput('') is None\n",
    "assert bot_tool.ParseInput('测试') is None"
   ]
  },
  {
   "cell_type": "code",
   "execution_count": 3,
   "metadata": {},
   "outputs": [],
   "source": [
    "assert dice_tool.RollDiceCommond('12') [2][0] == 12 and dice_tool.RollDiceCommond('12') [1] == '12=12'\n",
    "assert dice_tool.RollDiceCommond('4d6+2')[0] == 0 and dice_tool.RollDiceCommond('4d6+2') [1][:6] == '4D6+2='\n",
    "assert dice_tool.RollDiceCommond('d20') [0] == 0 and dice_tool.RollDiceCommond('d20') [1][:3] == 'D20'\n",
    "assert dice_tool.RollDiceCommond('d') [0] == 0 and dice_tool.RollDiceCommond('d') [1][:3] == 'D20'\n",
    "assert dice_tool.RollDiceCommond('1D4') [0] == 0\n",
    "assert dice_tool.RollDiceCommond('30D4') [0] == 0\n",
    "assert dice_tool.RollDiceCommond('D20优势+2') [0] == 0 and dice_tool.RollDiceCommond('D20优势+2') [1][:12] == 'D20优势+2=Max('\n",
    "assert dice_tool.RollDiceCommond('D20劣势-4') [0] == 0 and dice_tool.RollDiceCommond('D20劣势-4') [1][:12] == 'D20劣势-4=Min('\n",
    "assert dice_tool.RollDiceCommond('4d6k3') [0] == 0 and dice_tool.RollDiceCommond('4d6k3') [1][:11] == '4D6K3=Max3('\n",
    "assert dice_tool.RollDiceCommond('6#4d6k3') [0] == 0 and dice_tool.RollDiceCommond('6#4d6k3') [1][:14] == '6次4D6K3={\\nMax3'\n",
    "assert dice_tool.RollDiceCommond('2d20k1+5+1d4') [0] == 0 and dice_tool.RollDiceCommond('2d20k1+5+1d4') [1][:17] == '2D20K1+5+1D4=Max('"
   ]
  },
  {
   "cell_type": "code",
   "execution_count": 4,
   "metadata": {},
   "outputs": [
    {
     "data": {
      "text/plain": [
       "66"
      ]
     },
     "execution_count": 4,
     "metadata": {},
     "output_type": "execute_result"
    }
   ],
   "source": [
    "temp = dice_tool.RollDiceCommond('6#4d6k3')[2]\n",
    "sum([i[0] for i in temp])"
   ]
  },
  {
   "cell_type": "code",
   "execution_count": 5,
   "metadata": {},
   "outputs": [],
   "source": [
    "assert dice_tool.SplitDiceCommand('d20优势+5攻击地精') == ('d20优势+5', '攻击地精')\n",
    "assert dice_tool.SplitDiceCommand('d20优势+5     攻击地精') == ('d20优势+5', '攻击地精')\n",
    "assert dice_tool.SplitDiceCommand('d20 优 势+5     攻击地精') == ('d20优势+5', '攻击地精')\n",
    "assert dice_tool.SplitDiceCommand('d20 优 势+5') == ('d20优势+5', '')"
   ]
  },
  {
   "cell_type": "code",
   "execution_count": 6,
   "metadata": {},
   "outputs": [],
   "source": [
    "b = bot_tool.Bot()\n",
    "assert b.ProcessInput('.nn', '12345678', 'ABCD') == '要用本来的名字称呼你吗? 了解!'\n",
    "assert b.ProcessInput('.rd20', '12345678', 'TEST_USER')[:16] == 'TEST_USER掷出了D20='\n",
    "assert b.ProcessInput('.rd', '12345678', 'TEST_USER')[:16] == 'TEST_USER掷出了D20='\n",
    "assert b.ProcessInput('.rd     ', '12345678', 'TEST_USER')[:16] == 'TEST_USER掷出了D20='\n",
    "assert b.ProcessInput('.rd    未知原因', '12345678', 'TEST_USER')[:23] == '由于未知原因,TEST_USER掷出了D20='\n",
    "assert b.ProcessInput('.rd20攻击', '12345678', 'TEST_USER', 'groupId_test')[:21] == '由于攻击,TEST_USER掷出了D20='\n",
    "assert b.ProcessInput('.rd优势', '12345678', 'TEST_USER')[:22] == 'TEST_USER掷出了D20优势=Max('\n",
    "assert b.ProcessInput('.rd+5', '12345678', 'TEST_USER')[:18] == 'TEST_USER掷出了D20+5='"
   ]
  },
  {
   "cell_type": "code",
   "execution_count": 7,
   "metadata": {},
   "outputs": [],
   "source": [
    "assert b.ProcessInput('.nn', '12345678', 'ABCD') == '要用本来的名字称呼你吗? 了解!'\n",
    "assert b.ProcessInput('.nn 西瓜', '12345678', 'ABCD') == '要称呼ABCD为西瓜吗? 没问题!'\n",
    "assert b.ProcessInput('.rd20', '12345678', 'TEST_USER')[:9] == '西瓜掷出了D20='\n",
    "assert b.ProcessInput('.nn 冬瓜', '12345678', 'ABCD') == '要称呼ABCD为冬瓜吗? 没问题!'\n",
    "assert b.ProcessInput('.rd20', '12345678', 'TEST_USER')[:9] == '冬瓜掷出了D20='\n",
    "assert b.ProcessInput('.jrrp', '12345678', 'TEST_USER')[:10] == '冬瓜今天走运的概率是'\n",
    "assert b.ProcessInput('.nn', '12345678', 'ABCD') == '要用本来的名字称呼你吗? 了解!'\n",
    "assert b.ProcessInput('.rd20', '12345678', 'TEST_USER')[:16] == 'TEST_USER掷出了D20='\n",
    "assert b.ProcessInput('.jrrp', '12345678', 'TEST_USER')[:17] == 'TEST_USER今天走运的概率是'"
   ]
  },
  {
   "cell_type": "code",
   "execution_count": 8,
   "metadata": {},
   "outputs": [
    {
     "name": "stdout",
     "output_type": "stream",
     "text": [
      "先攻列表:\n",
      "巢穴 20 已损失HP:0\n",
      "地精 13 已损失HP:0\n",
      "格鲁特 5 HP:40/50\n",
      "米达尔 -3 已损失HP:0\n",
      "已经将地精从先攻列表中删除\n",
      "已经将米达尔从先攻列表中删除\n",
      "先攻列表:\n",
      "巢穴 20 已损失HP:0\n",
      "格鲁特 5 HP:40/50\n"
     ]
    }
   ],
   "source": [
    "assert b.ProcessInput('.nn 格鲁特', '12345678', 'TEST_USER') == '要称呼TEST_USER为格鲁特吗? 没问题!'\n",
    "assert b.ProcessInput('.sethp 40', '12345678', 'TEST_USER', 'groupId_test') == '格鲁特的生命值是40, 最大生命值是40吗? 了解!'\n",
    "assert b.ProcessInput('.sethp 40/50', '12345678', 'TEST_USER', 'groupId_test') == '格鲁特的生命值是40, 最大生命值是50吗? 了解!'\n",
    "assert b.ProcessInput('.init clr', '12345678', 'TEST_USER', 'groupId_test')\n",
    "assert b.ProcessInput('.init', '12345678', 'TEST_USER', 'groupId_test') == '还没有做好先攻列表哦'\n",
    "assert b.ProcessInput('.ri+2', '12345678', 'TEST_USER', 'groupId_test')[:12] == '格鲁特先攻:D20+2='\n",
    "assert b.ProcessInput('.ri-1', '12345678', 'TEST_USER', 'groupId_test')[:12] == '格鲁特先攻:D20-1='\n",
    "assert b.ProcessInput('.ri', '12345678', 'TEST_USER', 'groupId_test')[:10] == '格鲁特先攻:D20='\n",
    "assert b.ProcessInput('.ri-2地精', '12345678', 'TEST_USER', 'groupId_test')[:11] == '地精先攻:D20-2='\n",
    "assert b.ProcessInput('.ri劣势+1d4 地精', '12345678', 'TEST_USER', 'groupId_test')[:19] =='地精先攻:D20劣势+1D4=Min('\n",
    "assert b.ProcessInput('.ri20 巢穴', '12345678', 'TEST_USER', 'groupId_test') == '巢穴先攻:20=20'\n",
    "assert b.ProcessInput('.ri-5', '456789', '米达尔', 'groupId_test')[:12] == '米达尔先攻:D20-5='\n",
    "print(b.ProcessInput('.init', '12345678', 'TEST_USER', 'groupId_test'))\n",
    "print(b.ProcessInput('.init del 地精', '12345678', 'TEST_USER', 'groupId_test'))\n",
    "print(b.ProcessInput('.init del米达尔', '12345678', 'TEST_USER', 'groupId_test'))\n",
    "print(b.ProcessInput('.init', '12345678', 'TEST_USER', 'groupId_test'))\n",
    "assert b.ProcessInput('.init clr', '12345678', 'TEST_USER', 'groupId_test')\n",
    "assert b.ProcessInput('.init', '12345678', 'TEST_USER', 'groupId_test') == '还没有做好先攻列表哦'\n",
    "assert b.ProcessInput('.nn', personId = '12345678', personName = 'TEST_USER') == '要用本来的名字称呼你吗? 了解!'\n",
    "assert b.ProcessInput('.rd20', '12345678', 'ABCD')[:11] == 'ABCD掷出了D20='\n",
    "assert b.ProcessInput('.jrrp', '12345678', 'TEST_USER')[:17] == 'TEST_USER今天走运的概率是'\n",
    "assert b.ProcessInput('.sethp', '12345678', 'TEST_USER', 'groupId_test') == '已经忘记了TEST_USER的生命值...'\n",
    "assert b.ProcessInput('.sethp', '12345678', 'TEST_USER', 'groupId_test') == 'TEST_USER好像还没有设置过生命值呢...'"
   ]
  },
  {
   "cell_type": "code",
   "execution_count": 9,
   "metadata": {},
   "outputs": [],
   "source": [
    "assert b.ProcessInput('.bot on', '12345678', 'TEST_USER', 'groupId_test') == None\n",
    "assert b.ProcessInput('.bot on', '12345678', 'TEST_USER', 'groupId_test', True) == '来啦~ 让我看看哪个小可爱能得到今日份的礼物'\n",
    "assert b.ProcessInput('.bot off', '12345678', 'TEST_USER', 'groupId_test', True) == '那我就不说话咯'\n",
    "assert b.ProcessInput('.rd20沉默', '12345678', 'TEST_USER', 'groupId_test') == None\n",
    "assert b.ProcessInput('.bot on', '12345678', 'TEST_USER', 'groupId_test', True) == '来啦~ 让我看看哪个小可爱能得到今日份的礼物'\n",
    "assert b.ProcessInput('.rd20沉默', '12345678', 'TEST_USER', 'groupId_test') != None"
   ]
  },
  {
   "cell_type": "code",
   "execution_count": 10,
   "metadata": {},
   "outputs": [],
   "source": [
    "assert b.ProcessInput('.dnd', '12345678', 'TEST_USER')\n",
    "assert b.ProcessInput('.dnd 3', '12345678', 'TEST_USER', 'groupId_test')\n",
    "assert b.ProcessInput('.dnd3 大力出奇迹', '12345678', 'TEST_USER', 'groupId_test')"
   ]
  },
  {
   "cell_type": "code",
   "execution_count": 12,
   "metadata": {},
   "outputs": [],
   "source": [
    "assert b.ProcessInput('.help', '12345678', 'TEST_USER', 'groupId_test') == help_info.HELP_STR\n",
    "assert b.ProcessInput('.help指令', '12345678', 'TEST_USER', 'groupId_test') == help_info.HELP_COMMAND_STR\n",
    "assert b.ProcessInput('.help  指 令', '12345678', 'TEST_USER', 'groupId_test') == help_info.HELP_COMMAND_STR\n",
    "assert b.ProcessInput('.help链接', '12345678', 'TEST_USER', 'groupId_test') == help_info.HELP_LINK_STR\n",
    "assert b.ProcessInput('.help协议', '12345678', 'TEST_USER', 'groupId_test') == help_info.HELP_AGREEMENT_STR"
   ]
  }
 ],
 "metadata": {
  "kernelspec": {
   "display_name": "Python 3",
   "language": "python",
   "name": "python3"
  },
  "language_info": {
   "codemirror_mode": {
    "name": "ipython",
    "version": 3
   },
   "file_extension": ".py",
   "mimetype": "text/x-python",
   "name": "python",
   "nbconvert_exporter": "python",
   "pygments_lexer": "ipython3",
   "version": "3.6.4"
  }
 },
 "nbformat": 4,
 "nbformat_minor": 2
}
