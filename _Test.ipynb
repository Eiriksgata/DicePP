{
 "cells": [
  {
   "cell_type": "code",
   "execution_count": 1,
   "metadata": {},
   "outputs": [
    {
     "name": "stderr",
     "output_type": "stream",
     "text": [
      "ujson module not found, using json\n"
     ]
    },
    {
     "name": "stdout",
     "output_type": "stream",
     "text": [
      "个人资料库加载成功!\n",
      "找到以下查询资料: ['5e_armor_weapon_phb_by_xe.json', '5e_creature_phb_dmg_by_hze.json', '5e_magic_items_dmg_by_hze.json', '5e_spell_feat_phb_exp.json', '5e_tools_phb_by_zxa.json']\n",
      "尝试加载5e_armor_weapon_phb_by_xe.json\n",
      "成功加载5e_armor_weapon_phb_by_xe.json, 共69个条目\n",
      "尝试加载5e_creature_phb_dmg_by_hze.json\n",
      "成功加载5e_creature_phb_dmg_by_hze.json, 共33个条目\n",
      "尝试加载5e_magic_items_dmg_by_hze.json\n",
      "成功加载5e_magic_items_dmg_by_hze.json, 共271个条目\n",
      "尝试加载5e_spell_feat_phb_exp.json\n",
      "成功加载5e_spell_feat_phb_exp.json, 共578个条目\n",
      "尝试加载5e_tools_phb_by_zxa.json\n",
      "成功加载5e_tools_phb_by_zxa.json, 共113个条目\n",
      "查询资料库加载成功! 共1061个条目\n"
     ]
    }
   ],
   "source": [
    "# import importlib\n",
    "\n",
    "import numpy as np\n",
    "import datetime\n",
    "\n",
    "import plugins.custom_config as custom_config\n",
    "import plugins.bot_tool as bot_tool\n",
    "# from bot_tool import *\n",
    "import plugins.dice_tool as dice_tool\n",
    "import plugins.help_info as help_info\n",
    "# from dice_tool import *\n",
    "import plugins.utils as utils\n",
    "\n",
    "# importlib.reload(bot_tool)\n",
    "# importlib.reload(dice_tool)\n",
    "# importlib.reload(utils)"
   ]
  },
  {
   "cell_type": "code",
   "execution_count": 2,
   "metadata": {},
   "outputs": [],
   "source": [
    "assert utils.ChineseToEnglishSymbol('。') == '.'\n",
    "assert utils.ChineseToEnglishSymbol('.') == '.'\n",
    "assert utils.int2str(4) == '+4'\n",
    "assert utils.int2str(0) == '+0'\n",
    "assert utils.int2str(-1) == '-1'\n",
    "\n",
    "assert bot_tool.ParseInput('.rd20').equal(utils.Command(utils.CommandType.Roll, ['d20', '']))\n",
    "assert bot_tool.ParseInput(' . r D20 reason').equal(utils.Command(utils.CommandType.Roll, ['d20', 'reason']))\n",
    "assert bot_tool.ParseInput('.r').equal(utils.Command(utils.CommandType.Roll, ['', '']))\n",
    "assert bot_tool.ParseInput('abc') is None\n",
    "assert bot_tool.ParseInput('') is None\n",
    "assert bot_tool.ParseInput('测试') is None"
   ]
  },
  {
   "cell_type": "code",
   "execution_count": 3,
   "metadata": {},
   "outputs": [],
   "source": [
    "assert dice_tool.RollDiceCommond('12') [2][0] == 12 and dice_tool.RollDiceCommond('12') [1] == '12=12'\n",
    "assert dice_tool.RollDiceCommond('4d6+2')[0] == 0 and dice_tool.RollDiceCommond('4d6+2') [1][:6] == '4D6+2='\n",
    "assert dice_tool.RollDiceCommond('d20') [0] == 0 and dice_tool.RollDiceCommond('d20') [1][:3] == 'D20'\n",
    "assert dice_tool.RollDiceCommond('d') [0] == 0 and dice_tool.RollDiceCommond('d') [1][:3] == 'D20'\n",
    "assert dice_tool.RollDiceCommond('1D4') [0] == 0\n",
    "assert dice_tool.RollDiceCommond('30D4') [0] == 0\n",
    "assert dice_tool.RollDiceCommond('D20优势+2') [0] == 0 and dice_tool.RollDiceCommond('D20优势+2') [1][:12] == 'D20优势+2=Max('\n",
    "assert dice_tool.RollDiceCommond('D20劣势-4') [0] == 0 and dice_tool.RollDiceCommond('D20劣势-4') [1][:12] == 'D20劣势-4=Min('\n",
    "assert dice_tool.RollDiceCommond('4d6k3') [0] == 0 and dice_tool.RollDiceCommond('4d6k3') [1][:11] == '4D6K3=Max3('\n",
    "assert dice_tool.RollDiceCommond('6#4d6k3') [0] == 0 and dice_tool.RollDiceCommond('6#4d6k3') [1][:14] == '6次4D6K3={\\nMax3'\n",
    "assert dice_tool.RollDiceCommond('2d20k1+5+1d4') [0] == 0 and dice_tool.RollDiceCommond('2d20k1+5+1d4') [1][:17] == '2D20K1+5+1D4=Max('"
   ]
  },
  {
   "cell_type": "code",
   "execution_count": 4,
   "metadata": {},
   "outputs": [],
   "source": [
    "assert dice_tool.SplitDiceCommand('d20优势+5攻击地精') == ('d20优势+5', '攻击地精')\n",
    "assert dice_tool.SplitDiceCommand('d20优势+5     攻击地精') == ('d20优势+5', '攻击地精')\n",
    "assert dice_tool.SplitDiceCommand('d20 优 势+5     攻击地精') == ('d20优势+5', '攻击地精')\n",
    "assert dice_tool.SplitDiceCommand('d20 优 势+5') == ('d20优势+5', '')"
   ]
  },
  {
   "cell_type": "code",
   "execution_count": 5,
   "metadata": {},
   "outputs": [
    {
     "name": "stdout",
     "output_type": "stream",
     "text": [
      "个人资料库加载成功!\n",
      "找到以下查询资料: ['5e_armor_weapon_phb_by_xe.json', '5e_creature_phb_dmg_by_hze.json', '5e_magic_items_dmg_by_hze.json', '5e_spell_feat_phb_exp.json', '5e_tools_phb_by_zxa.json']\n",
      "尝试加载5e_armor_weapon_phb_by_xe.json\n",
      "成功加载5e_armor_weapon_phb_by_xe.json, 共69个条目\n",
      "尝试加载5e_creature_phb_dmg_by_hze.json\n",
      "成功加载5e_creature_phb_dmg_by_hze.json, 共33个条目\n",
      "尝试加载5e_magic_items_dmg_by_hze.json\n",
      "成功加载5e_magic_items_dmg_by_hze.json, 共271个条目\n",
      "尝试加载5e_spell_feat_phb_exp.json\n",
      "成功加载5e_spell_feat_phb_exp.json, 共578个条目\n",
      "尝试加载5e_tools_phb_by_zxa.json\n",
      "成功加载5e_tools_phb_by_zxa.json, 共113个条目\n",
      "查询资料库加载成功! 共1061个条目\n"
     ]
    }
   ],
   "source": [
    "b = bot_tool.Bot()\n",
    "assert b.ProcessInput('.nn', '12345678', 'ABCD') == '要用本来的名字称呼你吗? 了解!'\n",
    "assert b.ProcessInput('.rd20', '12345678', 'TEST_USER')[:16] == 'TEST_USER掷出了D20='\n",
    "assert b.ProcessInput('.rd', '12345678', 'TEST_USER')[:16] == 'TEST_USER掷出了D20='\n",
    "assert b.ProcessInput('.rd     ', '12345678', 'TEST_USER')[:16] == 'TEST_USER掷出了D20='\n",
    "assert b.ProcessInput('.rd    未知原因', '12345678', 'TEST_USER')[:23] == '由于未知原因,TEST_USER掷出了D20='\n",
    "assert b.ProcessInput('.rd20攻击', '12345678', 'TEST_USER', 'groupId_test')[:21] == '由于攻击,TEST_USER掷出了D20='\n",
    "assert b.ProcessInput('.rd优势', '12345678', 'TEST_USER')[:22] == 'TEST_USER掷出了D20优势=Max('\n",
    "assert b.ProcessInput('.rd+5', '12345678', 'TEST_USER')[:18] == 'TEST_USER掷出了D20+5='"
   ]
  },
  {
   "cell_type": "code",
   "execution_count": 6,
   "metadata": {},
   "outputs": [],
   "source": [
    "assert b.ProcessInput('.nn', '12345678', 'ABCD') == '要用本来的名字称呼你吗? 了解!'\n",
    "assert b.ProcessInput('.nn 西瓜', '12345678', 'ABCD') == '要称呼ABCD为西瓜吗? 没问题!'\n",
    "assert b.ProcessInput('.rd20', '12345678', 'TEST_USER')[:9] == '西瓜掷出了D20='\n",
    "assert b.ProcessInput('.nn 冬瓜', '12345678', 'ABCD') == '要称呼ABCD为冬瓜吗? 没问题!'\n",
    "assert b.ProcessInput('.rd20', '12345678', 'TEST_USER')[:9] == '冬瓜掷出了D20='\n",
    "assert b.ProcessInput('.jrrp', '12345678', 'TEST_USER')[:10] == '冬瓜今天走运的概率是'\n",
    "assert b.ProcessInput('.nn', '12345678', 'ABCD') == '要用本来的名字称呼你吗? 了解!'\n",
    "assert b.ProcessInput('.rd20', '12345678', 'TEST_USER')[:16] == 'TEST_USER掷出了D20='\n",
    "assert b.ProcessInput('.jrrp', '12345678', 'TEST_USER')[:17] == 'TEST_USER今天走运的概率是'"
   ]
  },
  {
   "cell_type": "code",
   "execution_count": 7,
   "metadata": {},
   "outputs": [
    {
     "data": {
      "text/plain": [
       "'成功将TEST_USER的生命值设置为40=40, 最大生命值是50'"
      ]
     },
     "execution_count": 7,
     "metadata": {},
     "output_type": "execute_result"
    }
   ],
   "source": [
    "b.ProcessInput('.sethp 40/50', '12345678', 'TEST_USER', 'groupId_test')"
   ]
  },
  {
   "cell_type": "code",
   "execution_count": 8,
   "metadata": {},
   "outputs": [
    {
     "name": "stdout",
     "output_type": "stream",
     "text": [
      "先攻列表:\n",
      "1.巢穴 先攻20 \n",
      "2.米达尔 先攻11 \n",
      "3.格鲁特 先攻6 HP:40/50\n",
      "4.地精 先攻5 \n",
      "先攻列表:\n",
      "1.巢穴 先攻20 \n",
      "2.格鲁特 先攻6 HP:40/50\n"
     ]
    }
   ],
   "source": [
    "assert b.ProcessInput('.nn 格鲁特', '12345678', 'TEST_USER') == '要称呼TEST_USER为格鲁特吗? 没问题!'\n",
    "assert b.ProcessInput('.sethp 40', '12345678', 'TEST_USER', 'groupId_test') == '成功将格鲁特的生命值设置为40=40'\n",
    "assert b.ProcessInput('.sethp 40/50', '12345678', 'TEST_USER', 'groupId_test') == '成功将格鲁特的生命值设置为40=40, 最大生命值是50'\n",
    "assert b.ProcessInput('.init clr', '12345678', 'TEST_USER', 'groupId_test')\n",
    "assert b.ProcessInput('.init', '12345678', 'TEST_USER', 'groupId_test') == '还没有做好先攻列表哦'\n",
    "assert b.ProcessInput('.ri+2', '12345678', 'TEST_USER', 'groupId_test')[:12] == '格鲁特先攻:D20+2='\n",
    "assert b.ProcessInput('.ri-1', '12345678', 'TEST_USER', 'groupId_test')[:12] == '格鲁特先攻:D20-1='\n",
    "assert b.ProcessInput('.ri', '12345678', 'TEST_USER', 'groupId_test')[:10] == '格鲁特先攻:D20='\n",
    "assert b.ProcessInput('.ri-2地精', '12345678', 'TEST_USER', 'groupId_test')[:11] == '地精先攻:D20-2='\n",
    "assert b.ProcessInput('.ri劣势+1d4 地精', '12345678', 'TEST_USER', 'groupId_test')[:19] =='地精先攻:D20劣势+1D4=Min('\n",
    "assert b.ProcessInput('.ri20 巢穴', '12345678', 'TEST_USER', 'groupId_test') == '巢穴先攻:20=20'\n",
    "assert b.ProcessInput('.ri-5', '87654321', '米达尔', 'groupId_test')[:12] == '米达尔先攻:D20-5='\n",
    "print(b.ProcessInput('.init', '12345678', 'TEST_USER', 'groupId_test'))\n",
    "assert b.ProcessInput('.init del 地精', '12345678', 'TEST_USER', 'groupId_test') == '已经将地精从先攻列表中删除'\n",
    "assert b.ProcessInput('.init del米达尔', '12345678', 'TEST_USER', 'groupId_test') == '已经将米达尔从先攻列表中删除'\n",
    "print(b.ProcessInput('.init', '12345678', 'TEST_USER', 'groupId_test'))\n",
    "assert b.ProcessInput('.init clr', '12345678', 'TEST_USER', 'groupId_test')\n",
    "assert b.ProcessInput('.init', '12345678', 'TEST_USER', 'groupId_test') == '还没有做好先攻列表哦'\n",
    "assert b.ProcessInput('.nn', personId = '12345678', personName = 'TEST_USER') == '要用本来的名字称呼你吗? 了解!'\n",
    "assert b.ProcessInput('.rd20', '12345678', 'ABCD')[:11] == 'ABCD掷出了D20='\n",
    "assert b.ProcessInput('.jrrp', '12345678', 'TEST_USER')[:17] == 'TEST_USER今天走运的概率是'\n",
    "assert b.ProcessInput('.sethp', '12345678', 'TEST_USER', 'groupId_test') == '已经忘记了TEST_USER的生命值...'"
   ]
  },
  {
   "cell_type": "code",
   "execution_count": 9,
   "metadata": {},
   "outputs": [
    {
     "name": "stdout",
     "output_type": "stream",
     "text": [
      "格鲁特先攻:D20=12\n",
      "米达尔先攻:D20=12\n",
      "地精先攻:D20=12\n",
      "卓尔精灵a先攻:D20=18\n",
      "先攻列表:\n",
      "1.卓尔精灵a 先攻18 \n",
      "2.格鲁特 先攻12 \n",
      "3.米达尔 先攻12 \n",
      "4.地精 先攻12 \n",
      "成功将格鲁特的生命值设置为20=20, 最大生命值是40\n",
      "地精的生命值减少了1D8+4=5+4=9\n",
      "格鲁特的生命值增加了1D8+3=5+3=8\n",
      "成功将格鲁特的生命值设置为10=10\n",
      "卓尔精灵a的生命值减少了1D6+10=3+10=13\n",
      "成功将卓尔精灵a的生命值设置为2D8=(5+4)=9\n",
      "卓尔精灵a的生命值减少了20=20\n",
      "因为生命值降至0, 卓尔精灵a昏迷/死亡了!\n",
      "米达尔的生命值减少了3D4+3=(3+4+4)+3=14\n",
      "先攻列表:\n",
      "1.卓尔精灵a 先攻18 昏迷/死亡\n",
      "2.格鲁特 先攻12 HP:10/40\n",
      "3.米达尔 先攻12 已损失HP:14\n",
      "4.地精 先攻12 已损失HP:9\n",
      "先攻列表已经删除啦\n",
      "已经忘记了格鲁特的生命值...\n",
      "已经忘记了米达尔的生命值...\n"
     ]
    }
   ],
   "source": [
    "assert b.ProcessInput('.nn 格鲁特', '12345678', 'TEST_USER') == '要称呼TEST_USER为格鲁特吗? 没问题!'\n",
    "print(b.ProcessInput('.ri', '12345678', 'TEST_USER', 'groupId_test'))\n",
    "print(b.ProcessInput('.ri', '87654321', '米达尔', 'groupId_test'))\n",
    "print(b.ProcessInput('.ri 地精', '12345678', 'TEST_USER', 'groupId_test'))\n",
    "print(b.ProcessInput('.ri 卓尔精灵A', '12345678', 'TEST_USER', 'groupId_test'))\n",
    "print(b.ProcessInput('.init', '12345678', 'TEST_USER', 'groupId_test'))\n",
    "print(b.ProcessInput('.sethp 20/40', '12345678', 'TEST_USER', 'groupId_test'))\n",
    "print(b.ProcessInput('.sethp 地精- 1d8+4', '12345678', 'TEST_USER', 'groupId_test'))\n",
    "print(b.ProcessInput('.sethp 格+ 1d8+3', '12345678', 'TEST_USER', 'groupId_test'))\n",
    "print(b.ProcessInput('.sethp10', '12345678', 'TEST_USER', 'groupId_test'))\n",
    "print(b.ProcessInput('.sethp A-1d6+10', '12345678', 'TEST_USER', 'groupId_test'))\n",
    "print(b.ProcessInput('.sethpA2d8', '12345678', 'TEST_USER', 'groupId_test'))\n",
    "print(b.ProcessInput('.sethpA-20', '12345678', 'TEST_USER', 'groupId_test'))\n",
    "print(b.ProcessInput('.sethp米-3d4+3', '12345678', 'TEST_USER', 'groupId_test'))\n",
    "print(b.ProcessInput('.init', '12345678', 'TEST_USER', 'groupId_test'))\n",
    "print(b.ProcessInput('.init clr', '12345678', 'TEST_USER', 'groupId_test'))\n",
    "print(b.ProcessInput('.sethp', '12345678', 'TEST_USER', 'groupId_test'))\n",
    "print(b.ProcessInput('.sethp', '87654321', '米达尔', 'groupId_test'))\n",
    "assert b.ProcessInput('.nn', '12345678', 'TEST_USER') == '要用本来的名字称呼你吗? 了解!'"
   ]
  },
  {
   "cell_type": "code",
   "execution_count": 10,
   "metadata": {},
   "outputs": [],
   "source": [
    "assert b.ProcessInput('.bot on', '12345678', 'TEST_USER', 'groupId_test') == None\n",
    "assert b.ProcessInput('.bot on', '12345678', 'TEST_USER', 'groupId_test', True) == '来啦~ 让我看看哪个小可爱能得到今日份的礼物'\n",
    "assert b.ProcessInput('.bot off', '12345678', 'TEST_USER', 'groupId_test', True) == '那我就不说话咯'\n",
    "assert b.ProcessInput('.rd20沉默', '12345678', 'TEST_USER', 'groupId_test') == None\n",
    "assert b.ProcessInput('.bot on', '12345678', 'TEST_USER', 'groupId_test', True) == '来啦~ 让我看看哪个小可爱能得到今日份的礼物'\n",
    "assert b.ProcessInput('.rd20沉默', '12345678', 'TEST_USER', 'groupId_test') != None"
   ]
  },
  {
   "cell_type": "code",
   "execution_count": 11,
   "metadata": {},
   "outputs": [],
   "source": [
    "assert b.ProcessInput('.dnd', '12345678', 'TEST_USER')\n",
    "assert b.ProcessInput('.dnd 3', '12345678', 'TEST_USER', 'groupId_test')\n",
    "assert b.ProcessInput('.dnd3 大力出奇迹', '12345678', 'TEST_USER', 'groupId_test')"
   ]
  },
  {
   "cell_type": "code",
   "execution_count": 12,
   "metadata": {},
   "outputs": [],
   "source": [
    "assert b.ProcessInput('.help', '12345678', 'TEST_USER', 'groupId_test') == help_info.HELP_STR\n",
    "assert b.ProcessInput('.help指令', '12345678', 'TEST_USER', 'groupId_test') == help_info.HELP_COMMAND_STR\n",
    "assert b.ProcessInput('.help  指 令', '12345678', 'TEST_USER', 'groupId_test') == help_info.HELP_COMMAND_STR\n",
    "assert b.ProcessInput('.help链接', '12345678', 'TEST_USER', 'groupId_test') == help_info.HELP_LINK_STR\n",
    "assert b.ProcessInput('.help协议', '12345678', 'TEST_USER', 'groupId_test') == help_info.HELP_AGREEMENT_STR"
   ]
  },
  {
   "cell_type": "code",
   "execution_count": 13,
   "metadata": {},
   "outputs": [],
   "source": [
    "assert b.ProcessInput('.查询火球术', '12345678', 'TEST_USER', 'groupId_test')[:11] == '火球术Fireball'\n",
    "assert b.ProcessInput('.查询  火球术', '12345678', 'TEST_USER', 'groupId_test')[:11] == '火球术Fireball'\n",
    "assert b.ProcessInput('.查询  火 球 术', '12345678', 'TEST_USER', 'groupId_test')[:11] == '火球术Fireball'\n",
    "assert b.ProcessInput('.查询火球', '12345678', 'TEST_USER', 'groupId_test').find('找到多个匹配的条目:') != -1\n",
    "assert b.ProcessInput('.查询   ', '12345678', 'TEST_USER', 'groupId_test')"
   ]
  },
  {
   "cell_type": "code",
   "execution_count": 14,
   "metadata": {},
   "outputs": [],
   "source": [
    "# queryDict = {}\n",
    "\n",
    "# title = ''\n",
    "# content = ''\n",
    "# with open('../资料/5E_Magic_Items_by花作噫.txt', 'r') as f:\n",
    "#     data = f.readline()\n",
    "#     while data:\n",
    "#         data = data.strip()\n",
    "#         if not data:\n",
    "#             if title:\n",
    "#                 if len(title) > 10:\n",
    "#                     print(\"Too big?\"+title+\"##\"+content)\n",
    "#                 elif len(content) < 20:\n",
    "#                     print(\"Too small?\"+title+\"##\"+content)\n",
    "#                 queryDict[title] = content[:-1]\n",
    "#             title = ''\n",
    "#             content = ''\n",
    "#         else:\n",
    "#             if not title:\n",
    "#                 title = data\n",
    "#             else:\n",
    "#                 content += data.strip() + '\\n'\n",
    "#         data = f.readline()\n",
    "# print(queryDict.keys())\n",
    "# print(queryDict[list(queryDict.keys())[0]])\n",
    "# utils.UpdateJson(queryDict, './5E_Magic_Items_by花作噫.json')"
   ]
  },
  {
   "cell_type": "code",
   "execution_count": 15,
   "metadata": {},
   "outputs": [],
   "source": [
    "# path = './plugins/custom_data/query_info/5e_tools_phb_by_zxa.json'\n",
    "# utils.UpdateJson(utils.ReadJson(path), path)"
   ]
  }
 ],
 "metadata": {
  "kernelspec": {
   "display_name": "Python 3",
   "language": "python",
   "name": "python3"
  },
  "language_info": {
   "codemirror_mode": {
    "name": "ipython",
    "version": 3
   },
   "file_extension": ".py",
   "mimetype": "text/x-python",
   "name": "python",
   "nbconvert_exporter": "python",
   "pygments_lexer": "ipython3",
   "version": "3.7.3"
  }
 },
 "nbformat": 4,
 "nbformat_minor": 2
}
