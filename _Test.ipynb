{
 "cells": [
  {
   "cell_type": "code",
   "execution_count": 1,
   "metadata": {},
   "outputs": [
    {
     "name": "stderr",
     "output_type": "stream",
     "text": [
      "ujson module not found, using json\n"
     ]
    },
    {
     "name": "stdout",
     "output_type": "stream",
     "text": [
      "个人资料库加载成功!\n",
      "找到以下查询资料: ['5e_00_spell_feat_phb_exp.json', '5e_01_phb_classes_by_pear_hze_xe.json', '5e_01_phb_races_by_pear.json', '5e_02_armor_weapon_phb_by_xe.json', '5e_02_phb_rule_by_pear.json', '5e_03_tools_phb_by_zxa.json', '5e_05_phb_spell_list_by_pear.json', '5e_06_magic_items_dmg_by_hze.json', '5e_07_dmg_rule_by_pear.json', '5e_08_mm_by_hze_pear_query.json', '5e_08_phb_background_by_pear.json', '5e_09_creature_phb_dmg_by_hze.json', '5e_10_exp_classes_by_hh_pear.json', '5e_10_exp_magic_items_by_hh.json', '5e_19_egtw_by_pear_3_25.json', '5e_30_module_items_by_hh.json', 'syn_spell.json']\n",
      "成功加载5e_00_spell_feat_phb_exp.json, 共545个条目\n",
      "成功加载5e_01_phb_classes_by_pear_hze_xe.json, 共582个条目\n",
      "成功加载5e_01_phb_races_by_pear.json, 共74个条目\n",
      "成功加载5e_02_armor_weapon_phb_by_xe.json, 共69个条目\n",
      "成功加载5e_02_phb_rule_by_pear.json, 共183个条目\n",
      "成功加载5e_03_tools_phb_by_zxa.json, 共115个条目\n",
      "成功加载5e_05_phb_spell_list_by_pear.json, 共70个条目\n",
      "成功加载5e_06_magic_items_dmg_by_hze.json, 共275个条目\n",
      "成功加载5e_07_dmg_rule_by_pear.json, 共150个条目\n",
      "成功加载5e_08_mm_by_hze_pear_query.json, 共572个条目\n",
      "成功加载5e_08_phb_background_by_pear.json, 共46个条目\n",
      "成功加载5e_09_creature_phb_dmg_by_hze.json, 共34个条目\n",
      "成功加载5e_10_exp_classes_by_hh_pear.json, 共340个条目\n",
      "成功加载5e_10_exp_magic_items_by_hh.json, 共100个条目\n",
      "成功加载5e_19_egtw_by_pear_3_25.json, 共73个条目\n",
      "成功加载5e_30_module_items_by_hh.json, 共102个条目\n",
      "成功加载同义词表syn_spell.json, 共18个条目\n",
      "查询资料库加载成功! 共3304个条目\n",
      "找到以下牌堆: ['5e_deck_of_many_things_deck.json', '5e_wild_magic_deck.json']\n",
      "成功加载5e_deck_of_many_things_deck.json, 牌堆名为万象无常牌, 共22个条目\n",
      "成功加载5e_wild_magic_deck.json, 牌堆名为狂野魔法浪涌表, 共50个条目\n",
      "牌库加载成功! 共2个牌堆\n",
      "找到以下菜谱: ['desert_menu.json', 'drink_menu.json', 'mix_menu.json']\n",
      "成功加载desert_menu.json, 共8个菜谱\n",
      "成功加载drink_menu.json, 共33个菜谱\n",
      "成功加载mix_menu.json, 共116个菜谱\n",
      "菜谱薰衣草饺子无效 前菜不是有效的关键词\n",
      "菜谱资料库加载成功! 共156个菜谱\n",
      "找到以下笑话资料: ['joke.json', 'joke_image (1).png', 'joke_image (10).png', 'joke_image (100).png', 'joke_image (101).png', 'joke_image (102).png', 'joke_image (103).png', 'joke_image (104).png', 'joke_image (105).png', 'joke_image (106).png', 'joke_image (107).png', 'joke_image (108).png', 'joke_image (109).png', 'joke_image (11).png', 'joke_image (110).png', 'joke_image (111).png', 'joke_image (112).png', 'joke_image (113).png', 'joke_image (114).png', 'joke_image (115).png', 'joke_image (116).png', 'joke_image (117).png', 'joke_image (118).png', 'joke_image (119).png', 'joke_image (12).png', 'joke_image (120).png', 'joke_image (121).png', 'joke_image (122).png', 'joke_image (123).png', 'joke_image (124).png', 'joke_image (125).png', 'joke_image (126).png', 'joke_image (127).png', 'joke_image (128).png', 'joke_image (129).png', 'joke_image (13).png', 'joke_image (130).png', 'joke_image (131).png', 'joke_image (132).png', 'joke_image (133).png', 'joke_image (134).png', 'joke_image (135).png', 'joke_image (136).png', 'joke_image (137).png', 'joke_image (138).png', 'joke_image (139).png', 'joke_image (14).png', 'joke_image (140).png', 'joke_image (141).png', 'joke_image (142).png', 'joke_image (143).png', 'joke_image (144).png', 'joke_image (145).png', 'joke_image (146).png', 'joke_image (147).png', 'joke_image (148).png', 'joke_image (149).png', 'joke_image (15).png', 'joke_image (150).png', 'joke_image (151).png', 'joke_image (152).png', 'joke_image (153).png', 'joke_image (154).png', 'joke_image (155).png', 'joke_image (156).png', 'joke_image (157).png', 'joke_image (158).png', 'joke_image (159).png', 'joke_image (16).png', 'joke_image (160).png', 'joke_image (161).png', 'joke_image (162).png', 'joke_image (163).png', 'joke_image (164).png', 'joke_image (165).png', 'joke_image (17).png', 'joke_image (18).png', 'joke_image (19).png', 'joke_image (2).png', 'joke_image (20).png', 'joke_image (21).png', 'joke_image (22).png', 'joke_image (23).png', 'joke_image (24).png', 'joke_image (25).png', 'joke_image (26).png', 'joke_image (27).png', 'joke_image (28).png', 'joke_image (29).png', 'joke_image (3).png', 'joke_image (30).png', 'joke_image (31).png', 'joke_image (32).png', 'joke_image (33).png', 'joke_image (34).png', 'joke_image (35).png', 'joke_image (36).png', 'joke_image (37).png', 'joke_image (38).png', 'joke_image (39).png', 'joke_image (4).png', 'joke_image (40).png', 'joke_image (41).png', 'joke_image (42).png', 'joke_image (43).png', 'joke_image (44).png', 'joke_image (45).png', 'joke_image (46).png', 'joke_image (47).png', 'joke_image (48).png', 'joke_image (49).png', 'joke_image (5).png', 'joke_image (50).png', 'joke_image (51).png', 'joke_image (52).png', 'joke_image (53).png', 'joke_image (54).png', 'joke_image (55).png', 'joke_image (56).png', 'joke_image (57).png', 'joke_image (58).png', 'joke_image (59).png', 'joke_image (6).png', 'joke_image (60).png', 'joke_image (61).png', 'joke_image (62).png', 'joke_image (63).png', 'joke_image (64).png', 'joke_image (65).png', 'joke_image (66).png', 'joke_image (67).png', 'joke_image (68).png', 'joke_image (69).png', 'joke_image (7).png', 'joke_image (70).png', 'joke_image (71).png', 'joke_image (72).png', 'joke_image (73).png', 'joke_image (74).png', 'joke_image (75).png', 'joke_image (76).png', 'joke_image (77).png', 'joke_image (78).png', 'joke_image (79).png', 'joke_image (8).png', 'joke_image (80).png', 'joke_image (81).png', 'joke_image (82).png', 'joke_image (83).png', 'joke_image (84).png', 'joke_image (85).png', 'joke_image (86).png', 'joke_image (87).png', 'joke_image (88).png', 'joke_image (89).png', 'joke_image (9).png', 'joke_image (90).png', 'joke_image (91).png', 'joke_image (92).png', 'joke_image (93).png', 'joke_image (94).png', 'joke_image (95).png', 'joke_image (96).png', 'joke_image (97).png', 'joke_image (98).png', 'joke_image (99).png']\n",
      "成功加载joke.json\n",
      "165个有效图片\n",
      "笑话资料库加载成功! 共135个文字条目, 165个图片条目\n"
     ]
    }
   ],
   "source": [
    "# import importlib\n",
    "\n",
    "import numpy as np\n",
    "import os\n",
    "\n",
    "import plugins.custom_config as custom_config\n",
    "import plugins.bot_core as bot_core\n",
    "import plugins.tool_dice as tool_dice\n",
    "import plugins.help_info as help_info\n",
    "import plugins.utils as utils\n",
    "\n",
    "from plugins import bot\n",
    "\n",
    "b = bot\n",
    "\n",
    "# importlib.reload(bot_tool)\n",
    "# importlib.reload(dice_tool)\n",
    "# importlib.reload(utils)"
   ]
  },
  {
   "cell_type": "code",
   "execution_count": 2,
   "metadata": {},
   "outputs": [],
   "source": [
    "assert utils.ChineseToEnglishSymbol('。') == '.'\n",
    "assert utils.ChineseToEnglishSymbol('.') == '.'\n",
    "assert utils.int2str(4) == '+4'\n",
    "assert utils.int2str(0) == '+0'\n",
    "assert utils.int2str(-1) == '-1'\n",
    "\n",
    "assert bot_core.ParseInput('.rd20').equal(utils.Command(utils.CommandType.Roll, ['d20', '', False, False]))\n",
    "assert bot_core.ParseInput(' . r D20 reason').equal(utils.Command(utils.CommandType.Roll, ['d20', 'reason', False, False]))\n",
    "assert bot_core.ParseInput('.r').equal(utils.Command(utils.CommandType.Roll, ['', '', False, False]))\n",
    "assert bot_core.ParseInput('.rh').equal(utils.Command(utils.CommandType.Roll, ['', '', True, False]))\n",
    "assert bot_core.ParseInput('.rs').equal(utils.Command(utils.CommandType.Roll, ['', '', False, True]))\n",
    "assert bot_core.ParseInput('abc') is None\n",
    "assert bot_core.ParseInput('') is None\n",
    "assert bot_core.ParseInput('测试') is None"
   ]
  },
  {
   "cell_type": "code",
   "execution_count": 3,
   "metadata": {},
   "outputs": [],
   "source": [
    "assert tool_dice.RollDiceCommand('12') [1] == '12=12'\n",
    "assert tool_dice.RollDiceCommand('4d6+2')[0] == 0 and tool_dice.RollDiceCommand('4d6+2') [1][:6] == '4D6+2='\n",
    "assert tool_dice.RollDiceCommand('d20') [0] == 0 and tool_dice.RollDiceCommand('d20') [1][:3] == 'D20'\n",
    "assert tool_dice.RollDiceCommand('d') [0] == 0 and tool_dice.RollDiceCommand('d') [1][:3] == 'D20'\n",
    "assert tool_dice.RollDiceCommand('1D4') [0] == 0\n",
    "assert tool_dice.RollDiceCommand('30D4') [0] == 0\n",
    "assert tool_dice.RollDiceCommand('D20优势+2') [0] == 0 and tool_dice.RollDiceCommand('D20优势+2') [1][:12] == 'D20优势+2=Max('\n",
    "assert tool_dice.RollDiceCommand('D20劣势-4') [0] == 0 and tool_dice.RollDiceCommand('D20劣势-4') [1][:12] == 'D20劣势-4=Min('\n",
    "assert tool_dice.RollDiceCommand('4d6k3') [0] == 0 and tool_dice.RollDiceCommand('4d6k3') [1][:11] == '4D6K3=Max3('\n",
    "assert tool_dice.RollDiceCommand('6#4d6k3') [0] == 0 and tool_dice.RollDiceCommand('6#4d6k3') [1][:14] == '6次4D6K3={\\nMax3'\n",
    "assert tool_dice.RollDiceCommand('2d20k1+5+1d4') [0] == 0 and tool_dice.RollDiceCommand('2d20k1+5+1d4') [1][:17] == '2D20K1+5+1D4=Max('\n",
    "assert tool_dice.RollDiceCommand('d优势+2')[1][:12] == 'D20优势+2=Max('\n",
    "assert tool_dice.RollDiceCommand('3dk1+5抗性')[1][:16] == '3D20K1+5抗性=(Max('"
   ]
  },
  {
   "cell_type": "code",
   "execution_count": 4,
   "metadata": {},
   "outputs": [],
   "source": [
    "assert tool_dice.SplitDiceCommand('d20优势+5攻击地精') == ('d20优势+5', '攻击地精')\n",
    "assert tool_dice.SplitDiceCommand('d20优势+5     攻击地精') == ('d20优势+5', '攻击地精')\n",
    "assert tool_dice.SplitDiceCommand('d20 优 势+5     攻击地精') == ('d20优势+5', '攻击地精')\n",
    "assert tool_dice.SplitDiceCommand('d20 优 势+5') == ('d20优势+5', '')"
   ]
  },
  {
   "cell_type": "code",
   "execution_count": 5,
   "metadata": {},
   "outputs": [],
   "source": [
    "assert b.ProcessInput('.nn', '821480843', 'ABCD')[0].resultStr == '要用本来的名字称呼你吗? 了解!'\n",
    "assert b.ProcessInput('.rd20', '821480843', 'TEST_USER')[0].resultStr[:16] == 'TEST_USER掷出了D20='\n",
    "assert b.ProcessInput('.rd', '821480843', 'TEST_USER')[0].resultStr[:16] == 'TEST_USER掷出了D20='\n",
    "assert b.ProcessInput('.rd     ', '821480843', 'TEST_USER')[0].resultStr[:16] == 'TEST_USER掷出了D20='\n",
    "assert b.ProcessInput('.rd    未知原因', '821480843', 'TEST_USER')[0].resultStr[:23] == '由于未知原因,TEST_USER掷出了D20='\n",
    "assert b.ProcessInput('.rd20攻击', '821480843', 'TEST_USER')[0].resultStr[:21] == '由于攻击,TEST_USER掷出了D20='\n",
    "assert b.ProcessInput('.rd优势', '821480843', 'TEST_USER')[0].resultStr[:22] == 'TEST_USER掷出了D20优势=Max('\n",
    "assert b.ProcessInput('.rd+5', '821480843', 'TEST_USER')[0].resultStr[:18] == 'TEST_USER掷出了D20+5='\n",
    "assert b.ProcessInput('.rs6d20', '82148084', 'TEST_USER', 'groupId_test')[0].resultStr\n",
    "assert b.ProcessInput('.rs4#6d20', '82148084', 'TEST_USER', 'groupId_test')[0].resultStr"
   ]
  },
  {
   "cell_type": "code",
   "execution_count": 6,
   "metadata": {},
   "outputs": [],
   "source": [
    "assert b.ProcessInput('.nn', '821480843', 'ABCD')[0].resultStr == '要用本来的名字称呼你吗? 了解!'\n",
    "assert b.ProcessInput('.nn 西瓜', '821480843', 'ABCD')[0].resultStr == '要称呼ABCD为西瓜吗? 没问题!'\n",
    "assert b.ProcessInput('.rd20', '821480843', 'TEST_USER')[0].resultStr[:9] == '西瓜掷出了D20='\n",
    "assert b.ProcessInput('.nn 冬瓜', '821480843', 'ABCD')[0].resultStr == '要称呼ABCD为冬瓜吗? 没问题!'\n",
    "assert b.ProcessInput('.rd20', '821480843', 'TEST_USER')[0].resultStr[:9] == '冬瓜掷出了D20='\n",
    "assert b.ProcessInput('.jrrp', '821480843', 'TEST_USER')[0].resultStr[:10] == '冬瓜今天走运的概率是'\n",
    "assert b.ProcessInput('.nn', '821480843', 'ABCD')[0].resultStr == '要用本来的名字称呼你吗? 了解!'\n",
    "assert b.ProcessInput('.rd20', '821480843', 'TEST_USER')[0].resultStr[:16] == 'TEST_USER掷出了D20='\n",
    "assert b.ProcessInput('.jrrp', '821480843', 'TEST_USER')[0].resultStr[:17] == 'TEST_USER今天走运的概率是'"
   ]
  },
  {
   "cell_type": "code",
   "execution_count": 7,
   "metadata": {},
   "outputs": [],
   "source": [
    "assert b.ProcessInput('.nn 格鲁特', '821480843', 'TEST_USER', 'groupId_test')[0].resultStr == '要称呼TEST_USER为格鲁特吗? 没问题!'\n",
    "assert b.ProcessInput('.hp 40', '821480843', 'TEST_USER', 'groupId_test')[0].resultStr == '成功将格鲁特的生命值设置为40=40'\n",
    "assert b.ProcessInput('.hp 40/50', '821480843', 'TEST_USER', 'groupId_test')[0].resultStr == '成功将格鲁特的生命值设置为40=40, 最大生命值是50'\n",
    "assert b.ProcessInput('.init clr', '821480843', 'TEST_USER', 'groupId_test')[0]\n",
    "assert b.ProcessInput('.init', '821480843', 'TEST_USER', 'groupId_test')[0].resultStr == '还没有做好先攻列表哦'\n",
    "assert b.ProcessInput('.ri+2', '821480843', 'TEST_USER', 'groupId_test')[0].resultStr[:12] == '格鲁特先攻:D20+2='\n",
    "assert b.ProcessInput('.ri-1', '821480843', 'TEST_USER', 'groupId_test')[0].resultStr[:12] == '格鲁特先攻:D20-1='\n",
    "assert b.ProcessInput('.ri', '821480843', 'TEST_USER', 'groupId_test')[0].resultStr[:10] == '格鲁特先攻:D20='\n",
    "assert b.ProcessInput('.ri-2地精', '821480843', 'TEST_USER', 'groupId_test')[0].resultStr[:11] == '地精先攻:D20-2='\n",
    "assert b.ProcessInput('.ri劣势+1d4 地精', '821480843', 'TEST_USER', 'groupId_test')[0].resultStr[:19] =='地精先攻:D20劣势+1D4=Min('\n",
    "assert b.ProcessInput('.ri20 巢穴', '821480843', 'TEST_USER', 'groupId_test')[0].resultStr == '巢穴先攻:20=20'\n",
    "assert b.ProcessInput('.ri-5', '87654321', '米达尔', 'groupId_test')[0].resultStr[:12] == '米达尔先攻:D20-5='\n",
    "assert b.ProcessInput('.init', '821480843', 'TEST_USER', 'groupId_test')[0].resultStr\n",
    "assert b.ProcessInput('.init del 地精', '821480843', 'TEST_USER', 'groupId_test')[0].resultStr == '已经将地精从先攻列表中删除'\n",
    "assert b.ProcessInput('.init del米达尔', '821480843', 'TEST_USER', 'groupId_test')[0].resultStr == '已经将米达尔从先攻列表中删除'\n",
    "assert b.ProcessInput('.init', '821480843', 'TEST_USER', 'groupId_test')[0].resultStr\n",
    "assert b.ProcessInput('.init clr', '821480843', 'TEST_USER', 'groupId_test')[0]\n",
    "assert b.ProcessInput('.init', '821480843', 'TEST_USER', 'groupId_test')[0].resultStr == '还没有做好先攻列表哦'\n",
    "assert b.ProcessInput('.nn', '821480843', 'TEST_USER', 'groupId_test')[0].resultStr == '要用本来的名字称呼你吗? 了解!'\n",
    "assert b.ProcessInput('.rd20', '821480843', 'ABCD')[0].resultStr[:11] == 'ABCD掷出了D20='\n",
    "assert b.ProcessInput('.jrrp', '821480843', 'TEST_USER')[0].resultStr[:17] == 'TEST_USER今天走运的概率是'\n",
    "assert b.ProcessInput('.hp clr', '821480843', 'TEST_USER', 'groupId_test')[0].resultStr == '已经忘记了TEST_USER的生命值...'"
   ]
  },
  {
   "cell_type": "code",
   "execution_count": 8,
   "metadata": {},
   "outputs": [],
   "source": [
    "assert b.ProcessInput('.nn 格鲁特', '821480843', 'TEST_USER')[0].resultStr == '要称呼TEST_USER为格鲁特吗? 没问题!'\n",
    "assert b.ProcessInput('.ri', '821480843', 'TEST_USER', 'groupId_test')[0].resultStr\n",
    "assert b.ProcessInput('.ri', '87654321', '米达尔', 'groupId_test')[0].resultStr\n",
    "assert b.ProcessInput('.ri 地精', '821480843', 'TEST_USER', 'groupId_test')[0].resultStr\n",
    "assert b.ProcessInput('.ri 卓尔精灵A', '821480843', 'TEST_USER', 'groupId_test')[0].resultStr\n",
    "assert b.ProcessInput('.init', '821480843', 'TEST_USER', 'groupId_test')[0].resultStr\n",
    "assert b.ProcessInput('.hp 20/40', '821480843', 'TEST_USER', 'groupId_test')[0].resultStr\n",
    "assert b.ProcessInput('.hp 地精- 1d8+4', '821480843', 'TEST_USER', 'groupId_test')[0].resultStr\n",
    "assert b.ProcessInput('.hp 格+ 1d8+3', '821480843', 'TEST_USER', 'groupId_test')[0].resultStr\n",
    "assert b.ProcessInput('.hp10', '821480843', 'TEST_USER', 'groupId_test')[0].resultStr\n",
    "assert b.ProcessInput('.hp A-1d6+10', '821480843', 'TEST_USER', 'groupId_test')[0].resultStr\n",
    "assert b.ProcessInput('.hpA2d8', '821480843', 'TEST_USER', 'groupId_test')[0].resultStr\n",
    "assert b.ProcessInput('.hpA-20', '821480843', 'TEST_USER', 'groupId_test')[0].resultStr\n",
    "assert b.ProcessInput('.hp米-3d4+3', '821480843', 'TEST_USER', 'groupId_test')[0].resultStr\n",
    "assert (b.ProcessInput('.米-3d4+3hp', '821480843', 'TEST_USER', 'groupId_test')[0].resultStr)\n",
    "assert (b.ProcessInput('.地精hp- 1d8+4', '821480843', 'TEST_USER', 'groupId_test')[0].resultStr)\n",
    "assert (b.ProcessInput('.米/地精hp-4d8', '821480843', 'TEST_USER', 'groupId_test')[0].resultStr)\n",
    "assert b.ProcessInput('.init', '821480843', 'TEST_USER', 'groupId_test')[0].resultStr\n",
    "assert b.ProcessInput('.init clr', '821480843', 'TEST_USER', 'groupId_test')[0].resultStr\n",
    "assert b.ProcessInput('.hp clr', '821480843', 'TEST_USER', 'groupId_test')[0].resultStr\n",
    "assert b.ProcessInput('.hp clr', '87654321', '米达尔', 'groupId_test')[0].resultStr\n",
    "assert b.ProcessInput('.nn', '821480843', 'TEST_USER')[0].resultStr == '要用本来的名字称呼你吗? 了解!'"
   ]
  },
  {
   "cell_type": "code",
   "execution_count": 9,
   "metadata": {},
   "outputs": [],
   "source": [
    "assert b.ProcessInput('.init clr', '821480843', 'TEST_USER', 'groupId_test')[0].resultStr\n",
    "assert b.ProcessInput('.ri', '821480843', 'TEST_USER', 'groupId_test')[0].resultStr\n",
    "assert b.ProcessInput('.hp 10', '821480843', 'TEST_USER', 'groupId_test')[0].resultStr\n",
    "assert b.ProcessInput('.hp 20', '12345678', 'TEST_USER2', 'groupId_test')[0].resultStr\n",
    "assert b.ProcessInput('.ri 约翰', '821480843', 'TEST_USER', 'groupId_test')[0].resultStr\n",
    "assert b.ProcessInput('.nn 约瑟夫', '821480843', 'TEST_USER', 'groupId_test')[0].resultStr\n",
    "assert b.ProcessInput('.nn 约翰', '12345678', 'TEST_USER2', 'groupId_test')[0].resultStr\n",
    "assert b.ProcessInput('.init', '821480843', 'TEST_USER', 'groupId_test')[0].resultStr\n",
    "assert b.ProcessInput('.nn', '821480843', 'TEST_USER', 'groupId_test')[0].resultStr\n",
    "assert b.ProcessInput('.nn', '12345678', 'TEST_USER2', 'groupId_test')[0].resultStr\n",
    "assert b.ProcessInput('.init clr', '821480843', 'TEST_USER', 'groupId_test')[0].resultStr"
   ]
  },
  {
   "cell_type": "code",
   "execution_count": 10,
   "metadata": {},
   "outputs": [],
   "source": [
    "assert b.ProcessInput('.bot on', '821480843', 'TEST_USER', 'groupId_test') == None\n",
    "assert b.ProcessInput('.bot on', '821480843', 'TEST_USER', 'groupId_test', True)[0].resultStr\n",
    "assert b.ProcessInput('.bot off', '821480843', 'TEST_USER', 'groupId_test', True)[0].resultStr\n",
    "assert b.ProcessInput('.rd20沉默', '821480843', 'TEST_USER', 'groupId_test') == None\n",
    "assert b.ProcessInput('.rd20沉默', '821480843', 'TEST_USER', 'groupId_test', True)[0] != None\n",
    "assert b.ProcessInput('.bot on', '821480843', 'TEST_USER', 'groupId_test', True)[0].resultStr\n",
    "assert b.ProcessInput('.rd20沉默', '821480843', 'TEST_USER', 'groupId_test')[0] != None"
   ]
  },
  {
   "cell_type": "code",
   "execution_count": 11,
   "metadata": {},
   "outputs": [],
   "source": [
    "assert b.ProcessInput('.dnd', '821480843', 'TEST_USER')[0]\n",
    "assert b.ProcessInput('.dnd 3', '821480843', 'TEST_USER', 'groupId_test')[0]\n",
    "assert b.ProcessInput('.dnd3 大力出奇迹', '821480843', 'TEST_USER', 'groupId_test')[0]"
   ]
  },
  {
   "cell_type": "code",
   "execution_count": 12,
   "metadata": {},
   "outputs": [],
   "source": [
    "assert b.ProcessInput('.help', '821480843', 'TEST_USER', 'groupId_test')[0].resultStr == help_info.HELP_STR\n",
    "assert b.ProcessInput('.help指令', '821480843', 'TEST_USER', 'groupId_test')[0].resultStr == help_info.HELP_COMMAND_STR\n",
    "assert b.ProcessInput('.help  指 令', '821480843', 'TEST_USER', 'groupId_test')[0].resultStr == help_info.HELP_COMMAND_STR\n",
    "assert b.ProcessInput('.help链接', '821480843', 'TEST_USER', 'groupId_test')[0].resultStr == help_info.HELP_LINK_STR\n",
    "assert b.ProcessInput('.help协议', '821480843', 'TEST_USER', 'groupId_test')[0].resultStr == help_info.HELP_AGREEMENT_STR\n",
    "assert b.ProcessInput('.help查询', '821480843', 'TEST_USER', 'groupId_test')[0].resultStr == help_info.HELP_COMMAND_QUERY_STR\n",
    "assert b.ProcessInput('.help draw', '821480843', 'TEST_USER', 'groupId_test')[0].resultStr == help_info.HELP_COMMAND_DRAW_STR"
   ]
  },
  {
   "cell_type": "code",
   "execution_count": 13,
   "metadata": {},
   "outputs": [],
   "source": [
    "assert b.ProcessInput('.查询火球术', '821480843', 'TEST_USER', 'groupId_test')[0].resultStr[:11] == '火球术Fireball'\n",
    "assert b.ProcessInput('.查询  火球术', '821480843', 'TEST_USER', 'groupId_test')[0].resultStr[:11] == '火球术Fireball'\n",
    "assert b.ProcessInput('.查询  火 球 术', '821480843', 'TEST_USER', 'groupId_test')[0].resultStr[:11] == '火球术Fireball'\n",
    "assert b.ProcessInput('.查询火球', '821480843', 'TEST_USER', 'groupId_test')[0].resultStr.find('找到多个匹配的条目:') != -1\n",
    "assert b.ProcessInput('.查询   ', '821480843', 'TEST_USER', 'groupId_test')[0]\n",
    "assert b.ProcessInput('.查询 高/隐', '821480843', 'TEST_USER', 'groupId_test')[0].resultStr[:13]"
   ]
  },
  {
   "cell_type": "code",
   "execution_count": 14,
   "metadata": {},
   "outputs": [],
   "source": [
    "assert b.ProcessInput('.rhd20优势', '821480843', 'TEST_USER', 'groupId_test')[0].personIdList == ['821480843']\n",
    "assert b.ProcessInput('.rhd20优势', '821480843', 'TEST_USER', 'groupId_test')[0].groupIdList is None"
   ]
  },
  {
   "cell_type": "code",
   "execution_count": 15,
   "metadata": {},
   "outputs": [],
   "source": [
    "assert b.ProcessInput('.r1d8抗性', '821480843', 'TEST_USER', 'groupId_test')[0].resultStr\n",
    "assert b.ProcessInput('.r1d8+2d10抗性', '821480843', 'TEST_USER', 'groupId_test')[0].resultStr\n",
    "assert b.ProcessInput('.r20易伤', '821480843', 'TEST_USER', 'groupId_test')[0].resultStr\n",
    "assert b.ProcessInput('.rd+2d8+1d4易伤', '821480843', 'TEST_USER', 'groupId_test')[0].resultStr\n",
    "assert b.ProcessInput('.r3#1d8+1d12抗性', '821480843', 'TEST_USER', 'groupId_test')[0].resultStr\n",
    "assert b.ProcessInput('.r易伤d+2d8+1d4', '821480843', 'TEST_USER', 'groupId_test')[0].resultStr\n",
    "assert b.ProcessInput('.r3dk1易伤', '821480843', 'TEST_USER', 'groupId_test')[0].resultStr"
   ]
  },
  {
   "cell_type": "code",
   "execution_count": 16,
   "metadata": {},
   "outputs": [
    {
     "data": {
      "text/plain": [
       "\"现在的记忆中共有2个牌堆呢, 分别是['万象无常牌', '狂野魔法浪涌表']\""
      ]
     },
     "execution_count": 16,
     "metadata": {},
     "output_type": "execute_result"
    }
   ],
   "source": [
    "assert b.ProcessInput('.draw 狂野', '821480843', 'TEST_USER', 'groupId_test')[0].resultStr[:15] == '从狂野魔法浪涌表中抽取的结果:'\n",
    "assert b.ProcessInput('.draw狂野魔法浪涌表', '821480843', 'TEST_USER', 'groupId_test')[0].resultStr[:15] == '从狂野魔法浪涌表中抽取的结果:'\n",
    "b.ProcessInput('.draw', '821480843', 'TEST_USER', 'groupId_test')[0].resultStr"
   ]
  },
  {
   "cell_type": "code",
   "execution_count": 17,
   "metadata": {},
   "outputs": [],
   "source": [
    "assert b.ProcessInput('.烹饪', '821480843', 'TEST_USER', 'groupId_test')[0].resultStr\n",
    "assert b.ProcessInput('.烹饪-4', '821480843', 'TEST_USER', 'groupId_test')[0].resultStr\n",
    "assert b.ProcessInput('.烹饪优势+1d4', '821480843', 'TEST_USER', 'groupId_test')[0].resultStr\n",
    "assert b.ProcessInput('.烹饪 经典/主菜', '821480843', 'TEST_USER', 'groupId_test')[0].resultStr\n",
    "assert b.ProcessInput('.烹饪 野炊', '821480843', 'TEST_USER', 'groupId_test')[0].resultStr\n",
    "assert b.ProcessInput('.烹饪 经典/主菜////精灵/黑暗/奢侈', '821480843', 'TEST_USER', 'groupId_test')[0].resultStr"
   ]
  },
  {
   "cell_type": "code",
   "execution_count": 18,
   "metadata": {},
   "outputs": [],
   "source": [
    "assert b.ProcessInput('.点菜', '821480843', 'TEST_USER', 'groupId_test')[0].resultStr\n",
    "assert b.ProcessInput('.点菜1d4', '821480843', 'TEST_USER', 'groupId_test')[0].resultStr\n",
    "assert b.ProcessInput('.点菜3', '821480843', 'TEST_USER', 'groupId_test')[0].resultStr\n",
    "assert b.ProcessInput('.点菜5经典', '821480843', 'TEST_USER', 'groupId_test')[0].resultStr\n",
    "assert b.ProcessInput('.点菜 经典/主菜////精灵/黑暗/奢侈', '821480843', 'TEST_USER', 'groupId_test')[0].resultStr"
   ]
  },
  {
   "cell_type": "code",
   "execution_count": 19,
   "metadata": {},
   "outputs": [],
   "source": [
    "assert b.ProcessInput('.今日菜单', '821480843', 'TEST_USER', 'groupId_test')[0].resultStr"
   ]
  },
  {
   "cell_type": "code",
   "execution_count": 20,
   "metadata": {},
   "outputs": [],
   "source": [
    "template = b.ProcessInput('.角色卡模板', '821480843', 'TEST_USER', 'groupId_test')[0].resultStr\n",
    "assert b.ProcessInput(f'.记录角色卡 {template}', '821480843', 'TEST_USER', 'groupId_test')[0].resultStr\n",
    "assert (b.ProcessInput('.法术位', '821480843', 'TEST_USER', 'groupId_test')[0].resultStr)\n",
    "assert (b.ProcessInput('.2环法术位-1', '821480843', 'TEST_USER', 'groupId_test')[0].resultStr)\n",
    "assert (b.ProcessInput('.1环-1', '821480843', 'TEST_USER', 'groupId_test')[0].resultStr)\n",
    "assert (b.ProcessInput('.金钱-52sp-20cp', '821480843', 'TEST_USER', 'groupId_test')[0].resultStr)\n",
    "assert (b.ProcessInput('.金钱-5', '821480843', 'TEST_USER', 'groupId_test')[0].resultStr)\n",
    "assert b.ProcessInput(f'.金钱', '821480843', 'TEST_USER', 'groupId_test')[0].resultStr\n",
    "assert (b.ProcessInput('.查看角色卡 ', '821480843', 'TEST_USER', 'groupId_test')[0].resultStr)\n",
    "assert (b.ProcessInput('.长休', '821480843', 'TEST_USER', 'groupId_test')[0].resultStr)\n",
    "assert (b.ProcessInput('.清除法术位', '821480843', 'TEST_USER', 'groupId_test')[0].resultStr)\n",
    "assert (b.ProcessInput('.清除金钱', '821480843', 'TEST_USER', 'groupId_test')[0].resultStr)\n",
    "assert (b.ProcessInput('.查看角色卡 ', '821480843', 'TEST_USER', 'groupId_test')[0].resultStr)\n",
    "assert (b.ProcessInput('.完整角色卡 ', '821480843', 'TEST_USER', 'groupId_test')[0].resultStr)\n",
    "assert b.ProcessInput('.敏捷检定+4+1d4 躲藏', '821480843', 'TEST_USER', 'groupId_test')[0].resultStr\n",
    "assert b.ProcessInput('.敏捷豁免+2', '821480843', 'TEST_USER', 'groupId_test')[0].resultStr\n",
    "assert b.ProcessInput('.察觉检定', '821480843', 'TEST_USER', 'groupId_test')[0].resultStr\n",
    "assert (b.ProcessInput('.敏捷攻击', '821480843', 'TEST_USER', 'groupId_test')[0].resultStr)\n",
    "assert (b.ProcessInput('.长休', '821480843', 'TEST_USER', 'groupId_test')[0].resultStr)\n",
    "assert b.ProcessInput('.清除角色卡 ', '821480843', 'TEST_USER', 'groupId_test')[0].resultStr\n",
    "assert b.ProcessInput('.nn', '821480843', 'TEST_USER', 'groupId_test')[0].resultStr\n",
    "assert b.ProcessInput('.角色卡', '821480843', 'TEST_USER', 'groupId_test')[0].resultStr\n",
    "assert b.ProcessInput('.说服检定', '821480843', 'TEST_USER', 'groupId_test')[0].resultStr\n",
    "assert b.ProcessInput('.长休', '821480843', 'TEST_USER', 'groupId_test')[0].resultStr"
   ]
  },
  {
   "cell_type": "code",
   "execution_count": 21,
   "metadata": {},
   "outputs": [
    {
     "name": "stdout",
     "output_type": "stream",
     "text": [
      "对TEST_USER的好感度为10~\n",
      "对TEST_USER的好感度为30~\n"
     ]
    }
   ],
   "source": [
    "assert b.ProcessInput('.credit 12345678:+10', '821480843', 'TEST_USER', 'groupId_test')[0].resultStr\n",
    "assert b.ProcessInput('.credit 12345678:-10', '821480843', 'TEST_USER', 'groupId_test')[1].resultStr\n",
    "print (b.ProcessInput('.好感度', '12345678', 'TEST_USER', 'groupId_test')[0].resultStr)\n",
    "print (b.ProcessInput('.好感度', '821480843', 'TEST_USER', 'groupId_test')[0].resultStr)\n",
    "assert b.ProcessInput('.savedata', '821480843', 'TEST_USER', 'groupId_test')[0].resultStr"
   ]
  },
  {
   "cell_type": "code",
   "execution_count": 22,
   "metadata": {},
   "outputs": [],
   "source": [
    "assert b.ProcessInput('.今日笑话', '821480843', 'TEST_USER', 'groupId_test')[0].resultStr\n",
    "assert b.ProcessInput('.今日笑话', '12345678', 'TEST_USER', 'groupId_test')[0].resultStr"
   ]
  },
  {
   "cell_type": "code",
   "execution_count": 23,
   "metadata": {},
   "outputs": [],
   "source": [
    "# print (b.ProcessInput('.dailyprofile', '821480843', 'TEST_USER', 'groupId_test')[0].resultStr)"
   ]
  },
  {
   "cell_type": "code",
   "execution_count": 24,
   "metadata": {},
   "outputs": [],
   "source": [
    "# b.DailyUpdate()[0].resultStr"
   ]
  },
  {
   "cell_type": "code",
   "execution_count": 25,
   "metadata": {},
   "outputs": [
    {
     "data": {
      "text/plain": [
       "datetime.timedelta(days=1)"
      ]
     },
     "execution_count": 25,
     "metadata": {},
     "output_type": "execute_result"
    }
   ],
   "source": [
    "import datetime\n",
    "datetime.timedelta(hours = 1) > datetime.timedelta(days = 30)\n",
    "datetime.datetime.now()+datetime.timedelta(days = 1) - datetime.datetime.now()"
   ]
  },
  {
   "cell_type": "code",
   "execution_count": 26,
   "metadata": {},
   "outputs": [],
   "source": [
    "# for pId in b.userInfoDict.keys():\n",
    "#     print(pId, b.userInfoDict[pId]['credit'], b.userInfoDict[pId]['commandDate'])"
   ]
  },
  {
   "cell_type": "code",
   "execution_count": 27,
   "metadata": {
    "scrolled": true
   },
   "outputs": [],
   "source": [
    "# queryDict = {}\n",
    "\n",
    "# fileName = '5E_扩展职业_by惠惠_梨子'\n",
    "# title = ''\n",
    "# content = ''\n",
    "# with open(f'../资料/{fileName}.txt', 'r', encoding=\"utf-8-sig\") as f:\n",
    "#     data = f.readline().strip()\n",
    "#     while data:\n",
    "#         data = data.strip()\n",
    "#         if not data:\n",
    "#             if title:\n",
    "#                 if len(title) > 20:\n",
    "#                     print(\"Title too long?\"+title+\"##\"+content)\n",
    "#                 elif len(content) < 20:\n",
    "#                     print(\"Content too small?\"+title+\"##\"+content)\n",
    "# #                 content = content.replace('【换行】', '\\n')\n",
    "#                 queryDict[title] = content[:-1]\n",
    "#             title = ''\n",
    "#             content = ''\n",
    "#         else:\n",
    "#             if not title:\n",
    "#                 title = data\n",
    "#             else:\n",
    "#                 content += data.strip() + '\\n'\n",
    "#         data = f.readline()\n",
    "# # content = content.replace('【换行】', '\\n')\n",
    "# queryDict[title] = content[:-1]\n",
    "# print(queryDict.keys())\n",
    "# print(queryDict[list(queryDict.keys())[0]])\n",
    "# utils.UpdateJson(queryDict, f'./plugins/custom_data/{fileName}_query.json')"
   ]
  },
  {
   "cell_type": "code",
   "execution_count": 28,
   "metadata": {},
   "outputs": [],
   "source": [
    "# fileName = '狂野魔法浪涌表'\n",
    "# deckDict = {}\n",
    "# deckTitle = ''\n",
    "# deckList = []\n",
    "# with open(f'../资料/牌堆/{fileName}.txt', 'r', encoding=\"utf-8-sig\") as f:\n",
    "#     data = f.readline()\n",
    "#     deckTitle = data.strip()\n",
    "#     data = f.readline().strip()\n",
    "#     while data:\n",
    "#         deckList.append(data)\n",
    "#         data = f.readline().strip()\n",
    "\n",
    "# # print(deckList[0])\n",
    "# deckDict['title'] = deckTitle\n",
    "# deckDict['list'] = deckList\n",
    "# utils.UpdateJson(deckDict, f'./plugins/custom_data/{fileName}_deck.json')\n",
    "# print(deckTitle)\n",
    "# print(len(deckDict['list']))\n",
    "# for i in range(len(deckDict['list'])):\n",
    "#       print(deckDict['list'][i])"
   ]
  },
  {
   "cell_type": "code",
   "execution_count": 29,
   "metadata": {
    "scrolled": true
   },
   "outputs": [],
   "source": [
    "# fileName = '混合菜谱'\n",
    "# cookDict = {}\n",
    "# curName = ''\n",
    "# with open(f'../资料/菜谱/{fileName}.txt', 'r', encoding=\"utf-8-sig\") as f:\n",
    "#     data = f.readline().strip()\n",
    "#     while data:\n",
    "#         data = data.split(':')\n",
    "#         if data[0] == '名称':\n",
    "#             cookDict[data[1]] = {}\n",
    "#             curName = data[1]\n",
    "#         if data[0] == '美味' or data[0] == '难度':\n",
    "#             data[1] = int(data[1])\n",
    "#         if data[0] == '菜系' or data[0] == '种类' or data[0] == '风格':\n",
    "#             data[1] = data[1].split('/')\n",
    "#         cookDict[curName][data[0]] = data[1]\n",
    "#         data = f.readline().strip()\n",
    "#         if data == '':\n",
    "#             data = f.readline().strip()\n",
    "#             cookDict[curName]['关键词'] = cookDict[curName]['菜系'] + cookDict[curName]['种类'] + cookDict[curName]['风格']\n",
    "# print(cookDict)\n",
    "# utils.UpdateJson(cookDict, f'./plugins/custom_data/{fileName}_menu.json')"
   ]
  },
  {
   "cell_type": "code",
   "execution_count": 30,
   "metadata": {},
   "outputs": [],
   "source": [
    "# joke_path = '../资料/笑话'\n",
    "# filesPath = os.listdir(joke_path) #读取所有文件名\n",
    "# filesPath = sorted(filesPath)\n",
    "# jokeDict = {}\n",
    "# jokeListStr = []\n",
    "# jokeListImg = []\n",
    "# for fp in filesPath:\n",
    "#     try:\n",
    "#         if fp[-4:] == '.txt':\n",
    "#             print('txt', fp)\n",
    "#             absPath = os.path.join(joke_path, fp)\n",
    "#             with open(absPath, 'r') as f:\n",
    "#                 jokeCur = ''\n",
    "#                 data = f.readline()\n",
    "#                 while data:\n",
    "#                     jokeCur += data\n",
    "#                     data = f.readline()\n",
    "#                 jokeCur = jokeCur.strip()\n",
    "#                 if jokeCur:\n",
    "#                     jokeListStr.append(jokeCur)\n",
    "#         elif fp[-4:] == '.png':\n",
    "#             print('png', fp)\n",
    "#             jokeListImg.append(fp)\n",
    "#     except Exception as e:\n",
    "#         print(f'error:{e}')\n",
    "# assert len(jokeListStr) > 0\n",
    "# print(f'笑话资料库加载成功! 共{len(jokeListStr)}个文字条目, {len(jokeListImg)}个图片条目')\n",
    "# jokeDict['word'] = jokeListStr\n",
    "# jokeDict['img'] = jokeListImg\n",
    "# utils.UpdateJson(jokeDict, f'./plugins/custom_data/joke_info/joke.json')"
   ]
  },
  {
   "cell_type": "code",
   "execution_count": 31,
   "metadata": {},
   "outputs": [],
   "source": [
    "# fileName = '职业表'\n",
    "# result = ''\n",
    "# indexRange = list(range(0,99)) +[0]\n",
    "# index = 0\n",
    "# split = '    '\n",
    "# with open(f'../资料/{fileName}.txt', 'r', encoding=\"utf-8-sig\") as f:\n",
    "#     data = f.readline().strip()\n",
    "#     while data:\n",
    "#         if index in indexRange:\n",
    "#             result += data + split\n",
    "#         index += 1\n",
    "#         data = f.readline().strip()\n",
    "#         if data == '':\n",
    "#             data = f.readline().strip()\n",
    "#             result = result[:-1].strip() + '\\n'\n",
    "#             index = 0\n",
    "# result = result.replace('—', '-')\n",
    "# print(result)"
   ]
  },
  {
   "cell_type": "code",
   "execution_count": 32,
   "metadata": {},
   "outputs": [],
   "source": [
    "# synDict = {}\n",
    "# fileName = 'syn_spell'\n",
    "# with open(f'../资料/{fileName}.txt', 'r', encoding=\"utf-8-sig\") as f:\n",
    "#     data = f.readline().strip()\n",
    "#     while data:\n",
    "#         synInfo = data.split(':')\n",
    "#         synInfo[0] = synInfo[0].split('/')\n",
    "#         for syn in synInfo[0]:\n",
    "#             synDict[syn] = synInfo[1]\n",
    "#         data = f.readline().strip()\n",
    "# print(synDict)\n",
    "# utils.UpdateJson(synDict, f'./plugins/custom_data/{fileName}.json')"
   ]
  },
  {
   "cell_type": "code",
   "execution_count": null,
   "metadata": {},
   "outputs": [],
   "source": []
  }
 ],
 "metadata": {
  "kernelspec": {
   "display_name": "Python 3",
   "language": "python",
   "name": "python3"
  },
  "language_info": {
   "codemirror_mode": {
    "name": "ipython",
    "version": 3
   },
   "file_extension": ".py",
   "mimetype": "text/x-python",
   "name": "python",
   "nbconvert_exporter": "python",
   "pygments_lexer": "ipython3",
   "version": "3.7.3"
  }
 },
 "nbformat": 4,
 "nbformat_minor": 2
}
