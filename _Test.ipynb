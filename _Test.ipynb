{
 "cells": [
  {
   "cell_type": "code",
   "execution_count": 1,
   "metadata": {},
   "outputs": [
    {
     "name": "stderr",
     "output_type": "stream",
     "text": [
      "ujson module not found, using json\n"
     ]
    }
   ],
   "source": [
    "# import importlib\n",
    "\n",
    "import numpy as np\n",
    "import datetime\n",
    "\n",
    "import plugins.custom_config as custom_config\n",
    "import plugins.bot_tool as bot_tool\n",
    "# from bot_tool import *\n",
    "import plugins.dice_tool as dice_tool\n",
    "import plugins.help_info as help_info\n",
    "# from dice_tool import *\n",
    "import plugins.utils as utils\n",
    "\n",
    "# importlib.reload(bot_tool)\n",
    "# importlib.reload(dice_tool)\n",
    "# importlib.reload(utils)"
   ]
  },
  {
   "cell_type": "code",
   "execution_count": 2,
   "metadata": {},
   "outputs": [],
   "source": [
    "assert utils.ChineseToEnglishSymbol('。') == '.'\n",
    "assert utils.ChineseToEnglishSymbol('.') == '.'\n",
    "assert utils.int2str(4) == '+4'\n",
    "assert utils.int2str(0) == '+0'\n",
    "assert utils.int2str(-1) == '-1'\n",
    "\n",
    "assert bot_tool.ParseInput('.rd20').equal(utils.Command(utils.CommandType.Roll, ['d20', '']))\n",
    "assert bot_tool.ParseInput(' . r D20 reason').equal(utils.Command(utils.CommandType.Roll, ['d20', 'reason']))\n",
    "assert bot_tool.ParseInput('.r').equal(utils.Command(utils.CommandType.Roll, ['', '']))\n",
    "assert bot_tool.ParseInput('abc') is None\n",
    "assert bot_tool.ParseInput('') is None\n",
    "assert bot_tool.ParseInput('测试') is None"
   ]
  },
  {
   "cell_type": "code",
   "execution_count": 3,
   "metadata": {},
   "outputs": [],
   "source": [
    "assert dice_tool.RollDiceCommond('12') [2][0] == 12 and dice_tool.RollDiceCommond('12') [1] == '12=12'\n",
    "assert dice_tool.RollDiceCommond('4d6+2')[0] == 0 and dice_tool.RollDiceCommond('4d6+2') [1][:6] == '4D6+2='\n",
    "assert dice_tool.RollDiceCommond('d20') [0] == 0 and dice_tool.RollDiceCommond('d20') [1][:3] == 'D20'\n",
    "assert dice_tool.RollDiceCommond('d') [0] == 0 and dice_tool.RollDiceCommond('d') [1][:3] == 'D20'\n",
    "assert dice_tool.RollDiceCommond('1D4') [0] == 0\n",
    "assert dice_tool.RollDiceCommond('30D4') [0] == 0\n",
    "assert dice_tool.RollDiceCommond('D20优势+2') [0] == 0 and dice_tool.RollDiceCommond('D20优势+2') [1][:12] == 'D20优势+2=Max('\n",
    "assert dice_tool.RollDiceCommond('D20劣势-4') [0] == 0 and dice_tool.RollDiceCommond('D20劣势-4') [1][:12] == 'D20劣势-4=Min('\n",
    "assert dice_tool.RollDiceCommond('4d6k3') [0] == 0 and dice_tool.RollDiceCommond('4d6k3') [1][:11] == '4D6K3=Max3('\n",
    "assert dice_tool.RollDiceCommond('6#4d6k3') [0] == 0 and dice_tool.RollDiceCommond('6#4d6k3') [1][:14] == '6次4D6K3={\\nMax3'\n",
    "assert dice_tool.RollDiceCommond('2d20k1+5+1d4') [0] == 0 and dice_tool.RollDiceCommond('2d20k1+5+1d4') [1][:17] == '2D20K1+5+1D4=Max('"
   ]
  },
  {
   "cell_type": "code",
   "execution_count": 4,
   "metadata": {},
   "outputs": [],
   "source": [
    "assert dice_tool.SplitDiceCommand('d20优势+5攻击地精') == ('d20优势+5', '攻击地精')\n",
    "assert dice_tool.SplitDiceCommand('d20优势+5     攻击地精') == ('d20优势+5', '攻击地精')\n",
    "assert dice_tool.SplitDiceCommand('d20 优 势+5     攻击地精') == ('d20优势+5', '攻击地精')\n",
    "assert dice_tool.SplitDiceCommand('d20 优 势+5') == ('d20优势+5', '')"
   ]
  },
  {
   "cell_type": "code",
   "execution_count": 5,
   "metadata": {},
   "outputs": [],
   "source": [
    "b = bot_tool.Bot()\n",
    "assert b.ProcessInput('.nn', '12345678', 'ABCD') == '要用本来的名字称呼你吗? 了解!'\n",
    "assert b.ProcessInput('.rd20', '12345678', 'TEST_USER')[:16] == 'TEST_USER掷出了D20='\n",
    "assert b.ProcessInput('.rd', '12345678', 'TEST_USER')[:16] == 'TEST_USER掷出了D20='\n",
    "assert b.ProcessInput('.rd     ', '12345678', 'TEST_USER')[:16] == 'TEST_USER掷出了D20='\n",
    "assert b.ProcessInput('.rd    未知原因', '12345678', 'TEST_USER')[:23] == '由于未知原因,TEST_USER掷出了D20='\n",
    "assert b.ProcessInput('.rd20攻击', '12345678', 'TEST_USER', 'groupId_test')[:21] == '由于攻击,TEST_USER掷出了D20='\n",
    "assert b.ProcessInput('.rd优势', '12345678', 'TEST_USER')[:22] == 'TEST_USER掷出了D20优势=Max('\n",
    "assert b.ProcessInput('.rd+5', '12345678', 'TEST_USER')[:18] == 'TEST_USER掷出了D20+5='"
   ]
  },
  {
   "cell_type": "code",
   "execution_count": 6,
   "metadata": {},
   "outputs": [],
   "source": [
    "assert b.ProcessInput('.nn', '12345678', 'ABCD') == '要用本来的名字称呼你吗? 了解!'\n",
    "assert b.ProcessInput('.nn 西瓜', '12345678', 'ABCD') == '要称呼ABCD为西瓜吗? 没问题!'\n",
    "assert b.ProcessInput('.rd20', '12345678', 'TEST_USER')[:9] == '西瓜掷出了D20='\n",
    "assert b.ProcessInput('.nn 冬瓜', '12345678', 'ABCD') == '要称呼ABCD为冬瓜吗? 没问题!'\n",
    "assert b.ProcessInput('.rd20', '12345678', 'TEST_USER')[:9] == '冬瓜掷出了D20='\n",
    "assert b.ProcessInput('.jrrp', '12345678', 'TEST_USER')[:10] == '冬瓜今天走运的概率是'\n",
    "assert b.ProcessInput('.nn', '12345678', 'ABCD') == '要用本来的名字称呼你吗? 了解!'\n",
    "assert b.ProcessInput('.rd20', '12345678', 'TEST_USER')[:16] == 'TEST_USER掷出了D20='\n",
    "assert b.ProcessInput('.jrrp', '12345678', 'TEST_USER')[:17] == 'TEST_USER今天走运的概率是'"
   ]
  },
  {
   "cell_type": "code",
   "execution_count": 7,
   "metadata": {},
   "outputs": [
    {
     "data": {
      "text/plain": [
       "'成功将TEST_USER的生命值设置为40=40, 最大生命值是50'"
      ]
     },
     "execution_count": 7,
     "metadata": {},
     "output_type": "execute_result"
    }
   ],
   "source": [
    "b.ProcessInput('.sethp 40/50', '12345678', 'TEST_USER', 'groupId_test')"
   ]
  },
  {
   "cell_type": "code",
   "execution_count": 8,
   "metadata": {},
   "outputs": [
    {
     "name": "stdout",
     "output_type": "stream",
     "text": [
      "先攻列表:\n",
      "1.巢穴 先攻20 HP:0\n",
      "2.格鲁特 先攻15 HP:40/50\n",
      "3.米达尔 先攻10 HP:0\n",
      "4.地精 先攻4 HP:0\n",
      "先攻列表:\n",
      "1.巢穴 先攻20 HP:0\n",
      "2.格鲁特 先攻15 HP:40/50\n"
     ]
    }
   ],
   "source": [
    "assert b.ProcessInput('.nn 格鲁特', '12345678', 'TEST_USER') == '要称呼TEST_USER为格鲁特吗? 没问题!'\n",
    "assert b.ProcessInput('.sethp 40', '12345678', 'TEST_USER', 'groupId_test') == '成功将格鲁特的生命值设置为40=40'\n",
    "assert b.ProcessInput('.sethp 40/50', '12345678', 'TEST_USER', 'groupId_test') == '成功将格鲁特的生命值设置为40=40, 最大生命值是50'\n",
    "assert b.ProcessInput('.init clr', '12345678', 'TEST_USER', 'groupId_test')\n",
    "assert b.ProcessInput('.init', '12345678', 'TEST_USER', 'groupId_test') == '还没有做好先攻列表哦'\n",
    "assert b.ProcessInput('.ri+2', '12345678', 'TEST_USER', 'groupId_test')[:12] == '格鲁特先攻:D20+2='\n",
    "assert b.ProcessInput('.ri-1', '12345678', 'TEST_USER', 'groupId_test')[:12] == '格鲁特先攻:D20-1='\n",
    "assert b.ProcessInput('.ri', '12345678', 'TEST_USER', 'groupId_test')[:10] == '格鲁特先攻:D20='\n",
    "assert b.ProcessInput('.ri-2地精', '12345678', 'TEST_USER', 'groupId_test')[:11] == '地精先攻:D20-2='\n",
    "assert b.ProcessInput('.ri劣势+1d4 地精', '12345678', 'TEST_USER', 'groupId_test')[:19] =='地精先攻:D20劣势+1D4=Min('\n",
    "assert b.ProcessInput('.ri20 巢穴', '12345678', 'TEST_USER', 'groupId_test') == '巢穴先攻:20=20'\n",
    "assert b.ProcessInput('.ri-5', '87654321', '米达尔', 'groupId_test')[:12] == '米达尔先攻:D20-5='\n",
    "print(b.ProcessInput('.init', '12345678', 'TEST_USER', 'groupId_test'))\n",
    "assert b.ProcessInput('.init del 地精', '12345678', 'TEST_USER', 'groupId_test') == '已经将地精从先攻列表中删除'\n",
    "assert b.ProcessInput('.init del米达尔', '12345678', 'TEST_USER', 'groupId_test') == '已经将米达尔从先攻列表中删除'\n",
    "print(b.ProcessInput('.init', '12345678', 'TEST_USER', 'groupId_test'))\n",
    "assert b.ProcessInput('.init clr', '12345678', 'TEST_USER', 'groupId_test')\n",
    "assert b.ProcessInput('.init', '12345678', 'TEST_USER', 'groupId_test') == '还没有做好先攻列表哦'\n",
    "assert b.ProcessInput('.nn', personId = '12345678', personName = 'TEST_USER') == '要用本来的名字称呼你吗? 了解!'\n",
    "assert b.ProcessInput('.rd20', '12345678', 'ABCD')[:11] == 'ABCD掷出了D20='\n",
    "assert b.ProcessInput('.jrrp', '12345678', 'TEST_USER')[:17] == 'TEST_USER今天走运的概率是'\n",
    "assert b.ProcessInput('.sethp', '12345678', 'TEST_USER', 'groupId_test') == '已经忘记了TEST_USER的生命值...'"
   ]
  },
  {
   "cell_type": "code",
   "execution_count": 9,
   "metadata": {},
   "outputs": [
    {
     "name": "stdout",
     "output_type": "stream",
     "text": [
      "格鲁特先攻:D20=13\n",
      "米达尔先攻:D20=6\n",
      "地精先攻:D20=13\n",
      "卓尔精灵a先攻:D20=1\n",
      "先攻列表:\n",
      "1.格鲁特 先攻13 HP:0\n",
      "2.地精 先攻13 HP:0\n",
      "3.米达尔 先攻6 HP:0\n",
      "4.卓尔精灵a 先攻1 HP:0\n",
      "成功将格鲁特的生命值设置为20=20, 最大生命值是40\n",
      "地精的生命值减少了1D8+4=8+4=12\n",
      "格鲁特的生命值增加了1D8+3=5+3=8\n",
      "成功将格鲁特的生命值设置为10=10\n",
      "卓尔精灵a的生命值减少了1D6+10=6+10=16\n",
      "成功将卓尔精灵a的生命值设置为2D8=(3+3)=6\n",
      "卓尔精灵a的生命值降至0, 卓尔精灵a昏迷/死亡了!\n",
      "米达尔的生命值减少了3D4+3=(1+4+4)+3=12\n",
      "先攻列表:\n",
      "1.格鲁特 先攻13 HP:10/40\n",
      "2.地精 先攻13 已损失HP:12\n",
      "3.米达尔 先攻6 已损失HP:12\n",
      "4.卓尔精灵a 先攻1 昏迷/死亡\n",
      "已经忘记了格鲁特的生命值...\n",
      "已经忘记了米达尔的生命值...\n"
     ]
    }
   ],
   "source": [
    "assert b.ProcessInput('.nn 格鲁特', '12345678', 'TEST_USER') == '要称呼TEST_USER为格鲁特吗? 没问题!'\n",
    "print(b.ProcessInput('.ri', '12345678', 'TEST_USER', 'groupId_test'))\n",
    "print(b.ProcessInput('.ri', '87654321', '米达尔', 'groupId_test'))\n",
    "print(b.ProcessInput('.ri 地精', '12345678', 'TEST_USER', 'groupId_test'))\n",
    "print(b.ProcessInput('.ri 卓尔精灵A', '12345678', 'TEST_USER', 'groupId_test'))\n",
    "print(b.ProcessInput('.init', '12345678', 'TEST_USER', 'groupId_test'))\n",
    "print(b.ProcessInput('.sethp 20/40', '12345678', 'TEST_USER', 'groupId_test'))\n",
    "print(b.ProcessInput('.sethp 地精- 1d8+4', '12345678', 'TEST_USER', 'groupId_test'))\n",
    "print(b.ProcessInput('.sethp 格+ 1d8+3', '12345678', 'TEST_USER', 'groupId_test'))\n",
    "print(b.ProcessInput('.sethp10', '12345678', 'TEST_USER', 'groupId_test'))\n",
    "print(b.ProcessInput('.sethp A-1d6+10', '12345678', 'TEST_USER', 'groupId_test'))\n",
    "print(b.ProcessInput('.sethpA2d8', '12345678', 'TEST_USER', 'groupId_test'))\n",
    "print(b.ProcessInput('.sethpA-20', '12345678', 'TEST_USER', 'groupId_test'))\n",
    "print(b.ProcessInput('.sethp米-3d4+3', '12345678', 'TEST_USER', 'groupId_test'))\n",
    "print(b.ProcessInput('.init', '12345678', 'TEST_USER', 'groupId_test'))\n",
    "print(b.ProcessInput('.sethp', '12345678', 'TEST_USER', 'groupId_test'))\n",
    "print(b.ProcessInput('.sethp', '87654321', '米达尔', 'groupId_test'))\n",
    "assert b.ProcessInput('.nn', '12345678', 'TEST_USER') == '要用本来的名字称呼你吗? 了解!'"
   ]
  },
  {
   "cell_type": "code",
   "execution_count": 10,
   "metadata": {},
   "outputs": [],
   "source": [
    "assert b.ProcessInput('.bot on', '12345678', 'TEST_USER', 'groupId_test') == None\n",
    "assert b.ProcessInput('.bot on', '12345678', 'TEST_USER', 'groupId_test', True) == '来啦~ 让我看看哪个小可爱能得到今日份的礼物'\n",
    "assert b.ProcessInput('.bot off', '12345678', 'TEST_USER', 'groupId_test', True) == '那我就不说话咯'\n",
    "assert b.ProcessInput('.rd20沉默', '12345678', 'TEST_USER', 'groupId_test') == None\n",
    "assert b.ProcessInput('.bot on', '12345678', 'TEST_USER', 'groupId_test', True) == '来啦~ 让我看看哪个小可爱能得到今日份的礼物'\n",
    "assert b.ProcessInput('.rd20沉默', '12345678', 'TEST_USER', 'groupId_test') != None"
   ]
  },
  {
   "cell_type": "code",
   "execution_count": 11,
   "metadata": {},
   "outputs": [],
   "source": [
    "assert b.ProcessInput('.dnd', '12345678', 'TEST_USER')\n",
    "assert b.ProcessInput('.dnd 3', '12345678', 'TEST_USER', 'groupId_test')\n",
    "assert b.ProcessInput('.dnd3 大力出奇迹', '12345678', 'TEST_USER', 'groupId_test')"
   ]
  },
  {
   "cell_type": "code",
   "execution_count": 12,
   "metadata": {},
   "outputs": [],
   "source": [
    "assert b.ProcessInput('.help', '12345678', 'TEST_USER', 'groupId_test') == help_info.HELP_STR\n",
    "assert b.ProcessInput('.help指令', '12345678', 'TEST_USER', 'groupId_test') == help_info.HELP_COMMAND_STR\n",
    "assert b.ProcessInput('.help  指 令', '12345678', 'TEST_USER', 'groupId_test') == help_info.HELP_COMMAND_STR\n",
    "assert b.ProcessInput('.help链接', '12345678', 'TEST_USER', 'groupId_test') == help_info.HELP_LINK_STR\n",
    "assert b.ProcessInput('.help协议', '12345678', 'TEST_USER', 'groupId_test') == help_info.HELP_AGREEMENT_STR"
   ]
  },
  {
   "cell_type": "code",
   "execution_count": 13,
   "metadata": {},
   "outputs": [],
   "source": [
    "assert b.ProcessInput('.查询火球术', '12345678', 'TEST_USER', 'groupId_test')[:11] == '火球术Fireball'\n",
    "assert b.ProcessInput('.查询  火球术', '12345678', 'TEST_USER', 'groupId_test')[:11] == '火球术Fireball'\n",
    "assert b.ProcessInput('.查询  火 球 术', '12345678', 'TEST_USER', 'groupId_test')[:11] == '火球术Fireball'\n",
    "assert b.ProcessInput('.查询火球', '12345678', 'TEST_USER', 'groupId_test').find('找到多个匹配的条目:') != -1\n",
    "assert b.ProcessInput('.查询   ', '12345678', 'TEST_USER', 'groupId_test')"
   ]
  },
  {
   "cell_type": "code",
   "execution_count": 19,
   "metadata": {},
   "outputs": [
    {
     "name": "stdout",
     "output_type": "stream",
     "text": [
      "dict_keys(['攀爬药水', '精金护甲', '炼金壶', '反侦护符', '次元袋', '魔术袋', '精灵之靴', '跳跑之靴', '雪地之靴', '射手护腕', '护盾胸针', '飞天扫帚', '水下呼吸帽', '爆裂头饰', '精灵斗篷', '防护斗篷', '蝠鲼斗篷', '无尽水瓶', '幻象牌组', '漂浮之球', '无踪粉', '干燥粉', '喷嚏粉', '元素宝石', '无尽烟壶', '魅惑镜片', '微视镜片', '鹰眼镜片', '食人魔力量护手', '光彩夺目宝石', '辟矢夺箭手套', '运动健将手套', '窃贼手套', '夜视镜', '易容帽', '智力头带', '通晓语言头盔', '心灵感应头盔', '不动权杖', '闪电标枪', '卡夫统灵药', '显像提灯', '水手护甲', '读心勋章', '秘银甲', '适应项链', '滑溜之油', '法力再生珍珠', '保健护符', '愈合护符', '迷情媚药', '颤栗乐笙', '唤鼠乐笙', '化兽为友药水', '火焰吐息药水', '成长药水', '剧毒药水', '抗性药水', '水下呼吸药水', '艾罗娜的箭袋', '跳跃戒指', '心灵护盾戒指', '善泳戒指', '温暖戒指', '水行戒指', '杂货法袍', '攀爬绳', '铁骑马鞍', '传讯石', '警戒之盾', '蛛行便鞋', '蝰蛇法杖', '巨蟒法杖', '幸运石', '复仇之剑', '唤鱼三叉戟', '搜魔魔杖', '魔法飞弹魔杖', '探秘魔杖', '蛛网魔杖', '警戒武器', '造风之扇', '飞翼之靴', '健康护符', '抗性护甲', '易伤护甲', '吸矢盾', '魔豆之袋', '力场珠', '矮人腰带', '狂战斧', '浮空之靴', '速度之靴', '命令元素水钵', '防御护腕', '命令元素火盆', '郎中披肩', '命令元素香炉', '开门钟琴', '移位斗篷', '蝙蝠斗篷', '力场魔方', '迪恩的折叠要塞', '淬毒匕首', '次元镣铐', '屠龙者', '健康灵药', '精灵链甲', '焰舌', '折叠船', '真视宝石', '巨人屠杀者', '幻惑镶钉皮甲', '传送头盔', '霍华德的便利袋', '音爆号角', '加速马蹄铁', '比拉罗的铁索', '瓦解之锤', '打击之锤', '恐惧之锤', '法术抗性斗篷', '火球项链', '念珠项链', '以太化之油', '辟毒护符', '次元洞', '鹰眼术药水', '缩小药水', '气化形体药水', '英雄气概药水', '坚不可摧药水', '读心药水', '夸尔羽符', '支配动物戒指', '反射闪避戒指', '羽落戒指', '自由行动戒指', '防御戒指', '抗性戒指', '储法戒指', '公羊戒指', 'X射线戒指', '百眼法袍', '支配权杖', '纠缠绳', '守护卷轴', '引弹盾', '魅惑法杖', '治愈法杖', '虫群法杖', '丛林法杖', '凋零法杖', '命令元素石核', '阳炎剑', '窃命剑', '血光剑', '触须权杖', '恶毒武器', '定身魔杖', '搜敌魔杖', '恐惧魔杖', '火球魔杖', '闪电束魔杖', '麻痹魔杖', '惊异魔杖', '飞翼斗篷', '位面护符', '活化盾', '屠杀箭', '吞噬袋', '祈神蜡烛', '飞毯', '节肢斗篷', '舞空剑', '恶魔护甲', '龙鳞甲', '矮人板甲', '矮人飞锤', '火巨灵囚瓶', '霜铭', '光辉头盔', '西风马蹄铁', '强身手册', '健体手册', '魔像手册', '灵巧手册', '摄心镜', '九转夺命剑', '诺泽尔的惊奇颜料', '誓仇弓', '锐锋之油', '飞行药水', '隐身药水', '延寿药水', '加速药水', '活力药水', '再生戒指', '流星戒指', '心灵遥控戒指', '虹光法袍', '星辰法袍', '吸收权杖', '警示权杖', '庇护权杖', '急速弯刀', '抗法盾', '火焰法杖', '冰霜法杖', '威力法杖', '强袭法杖', '雷霆法杖', '锐锋之剑', '静思卷册', '统御卷册', '通晓卷册', '变形魔杖', '夸力许装置', '坚不可摧护甲', '隐身斗篷', '异界之门魔方', '万象无常牌', '防御者', '火巨灵链甲', '雷神之锤', '神圣复仇者', '收妖瓶', '吉兆之刃', '以太化板甲', '召唤气巨灵戒指', '命令元素戒指', '隐身戒指', '法术反转戒指', '三愿戒指', '大法师法袍', '王者权杖', '复活权杖', '防护圣甲虫', '至尊胶', '湮灭法球', '贤者法杖', '应答之剑', '纯善护符', '法球护符', '至恶护符', '静语卷册', '万溶剂', '斩首剑', '诸界之井', '弹药', '护甲', '巨人之力腰带', '水晶球', '异能塑像', '瓦尔哈拉号角', '吟游诗人乐器', '艾恩石', '巨人之力药水', '治疗药水', '契约掌控者权杖', '盾牌', '法术卷轴', '战法师魔杖', '武器', '矮人王圣斧', '圣洁之书', '秽暗之书', '维克那法眼和魔掌', '龙珠', '凯斯之剑', '奥喀斯之杖']) 攀爬药水Potion of Climbing\n",
      "魔药，普通\n",
      "饮用此药水后，你获得等同于你步行速度的攀爬速度，持续1小时。在此期间，你攀爬时进行的力量（运动）检定具有优势。药水分离成类似于岩层的褐色、银色和灰色三层，即使摇晃也不会让三种颜色混合到一起。\n"
     ]
    }
   ],
   "source": [
    "# queryDict = {}\n",
    "\n",
    "# title = ''\n",
    "# content = ''\n",
    "# with open('../5E_Magic_Items_by花作噫.txt', 'r') as f:\n",
    "#     data = f.readline()\n",
    "#     while data:\n",
    "#         data = data.strip()\n",
    "#         if not data:\n",
    "#             if title:\n",
    "#                 if len(title) > 10:\n",
    "#                     print(title)\n",
    "#                 elif len(content) < 20:\n",
    "#                     print(title+\"##\"+content)\n",
    "#                 queryDict[title] = content[:-1]\n",
    "#             title = ''\n",
    "#             content = ''\n",
    "#         else:\n",
    "#             if not title:\n",
    "#                 title = data\n",
    "#             else:\n",
    "#                 content += data.strip() + '\\n'\n",
    "#         data = f.readline()\n",
    "# print(queryDict.keys(), queryDict[list(queryDict.keys())[0]])\n",
    "# utils.UpdateJson(queryDict, './temp.json')"
   ]
  }
 ],
 "metadata": {
  "kernelspec": {
   "display_name": "Python 3",
   "language": "python",
   "name": "python3"
  },
  "language_info": {
   "codemirror_mode": {
    "name": "ipython",
    "version": 3
   },
   "file_extension": ".py",
   "mimetype": "text/x-python",
   "name": "python",
   "nbconvert_exporter": "python",
   "pygments_lexer": "ipython3",
   "version": "3.7.3"
  }
 },
 "nbformat": 4,
 "nbformat_minor": 2
}
