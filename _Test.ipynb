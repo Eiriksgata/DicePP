{
 "cells": [
  {
   "cell_type": "code",
   "execution_count": 1,
   "metadata": {},
   "outputs": [
    {
     "name": "stderr",
     "output_type": "stream",
     "text": [
      "ujson module not found, using json\n"
     ]
    },
    {
     "name": "stdout",
     "output_type": "stream",
     "text": [
      "个人资料库加载成功!\n",
      "找到以下查询资料: ['5e_armor_weapon_phb_by_xe.json', '5e_creature_phb_dmg_by_hze.json', '5e_dmg_rule_by_pear.json', '5e_magic_items_dmg_by_hze.json', '5e_phb_rule_by_pear.json', '5e_phb_spell_list_by_pear.json', '5e_spell_feat_phb_exp.json', '5e_tools_phb_by_zxa.json']\n",
      "尝试加载5e_armor_weapon_phb_by_xe.json\n",
      "成功加载5e_armor_weapon_phb_by_xe.json, 共69个条目\n",
      "尝试加载5e_creature_phb_dmg_by_hze.json\n",
      "成功加载5e_creature_phb_dmg_by_hze.json, 共33个条目\n",
      "尝试加载5e_dmg_rule_by_pear.json\n",
      "成功加载5e_dmg_rule_by_pear.json, 共78个条目\n",
      "尝试加载5e_magic_items_dmg_by_hze.json\n",
      "成功加载5e_magic_items_dmg_by_hze.json, 共271个条目\n",
      "尝试加载5e_phb_rule_by_pear.json\n",
      "成功加载5e_phb_rule_by_pear.json, 共154个条目\n",
      "尝试加载5e_phb_spell_list_by_pear.json\n",
      "成功加载5e_phb_spell_list_by_pear.json, 共69个条目\n",
      "尝试加载5e_spell_feat_phb_exp.json\n",
      "成功加载5e_spell_feat_phb_exp.json, 共578个条目\n",
      "尝试加载5e_tools_phb_by_zxa.json\n",
      "成功加载5e_tools_phb_by_zxa.json, 共113个条目\n",
      "查询资料库加载成功! 共1359个条目\n",
      "找到以下牌堆: ['5e_wild_magic_deck.json']\n",
      "尝试加载5e_wild_magic_deck.json\n",
      "成功加载5e_wild_magic_deck.json, 牌堆名为狂野魔法浪涌表, 共49个条目\n",
      "牌库加载成功! 共1个牌堆\n"
     ]
    }
   ],
   "source": [
    "# import importlib\n",
    "\n",
    "import numpy as np\n",
    "import datetime\n",
    "\n",
    "import plugins.custom_config as custom_config\n",
    "import plugins.bot_tool as bot_tool\n",
    "# from bot_tool import *\n",
    "import plugins.dice_tool as dice_tool\n",
    "import plugins.help_info as help_info\n",
    "# from dice_tool import *\n",
    "import plugins.utils as utils\n",
    "\n",
    "# importlib.reload(bot_tool)\n",
    "# importlib.reload(dice_tool)\n",
    "# importlib.reload(utils)"
   ]
  },
  {
   "cell_type": "code",
   "execution_count": 2,
   "metadata": {},
   "outputs": [],
   "source": [
    "assert utils.ChineseToEnglishSymbol('。') == '.'\n",
    "assert utils.ChineseToEnglishSymbol('.') == '.'\n",
    "assert utils.int2str(4) == '+4'\n",
    "assert utils.int2str(0) == '+0'\n",
    "assert utils.int2str(-1) == '-1'\n",
    "\n",
    "assert bot_tool.ParseInput('.rd20').equal(utils.Command(utils.CommandType.Roll, ['d20', '', False]))\n",
    "assert bot_tool.ParseInput(' . r D20 reason').equal(utils.Command(utils.CommandType.Roll, ['d20', 'reason', False]))\n",
    "assert bot_tool.ParseInput('.r').equal(utils.Command(utils.CommandType.Roll, ['', '', False]))\n",
    "assert bot_tool.ParseInput('abc') is None\n",
    "assert bot_tool.ParseInput('') is None\n",
    "assert bot_tool.ParseInput('测试') is None"
   ]
  },
  {
   "cell_type": "code",
   "execution_count": 3,
   "metadata": {},
   "outputs": [],
   "source": [
    "assert dice_tool.RollDiceCommond('12') [2][0] == 12 and dice_tool.RollDiceCommond('12') [1] == '12=12'\n",
    "assert dice_tool.RollDiceCommond('4d6+2')[0] == 0 and dice_tool.RollDiceCommond('4d6+2') [1][:6] == '4D6+2='\n",
    "assert dice_tool.RollDiceCommond('d20') [0] == 0 and dice_tool.RollDiceCommond('d20') [1][:3] == 'D20'\n",
    "assert dice_tool.RollDiceCommond('d') [0] == 0 and dice_tool.RollDiceCommond('d') [1][:3] == 'D20'\n",
    "assert dice_tool.RollDiceCommond('1D4') [0] == 0\n",
    "assert dice_tool.RollDiceCommond('30D4') [0] == 0\n",
    "assert dice_tool.RollDiceCommond('D20优势+2') [0] == 0 and dice_tool.RollDiceCommond('D20优势+2') [1][:12] == 'D20优势+2=Max('\n",
    "assert dice_tool.RollDiceCommond('D20劣势-4') [0] == 0 and dice_tool.RollDiceCommond('D20劣势-4') [1][:12] == 'D20劣势-4=Min('\n",
    "assert dice_tool.RollDiceCommond('4d6k3') [0] == 0 and dice_tool.RollDiceCommond('4d6k3') [1][:11] == '4D6K3=Max3('\n",
    "assert dice_tool.RollDiceCommond('6#4d6k3') [0] == 0 and dice_tool.RollDiceCommond('6#4d6k3') [1][:14] == '6次4D6K3={\\nMax3'\n",
    "assert dice_tool.RollDiceCommond('2d20k1+5+1d4') [0] == 0 and dice_tool.RollDiceCommond('2d20k1+5+1d4') [1][:17] == '2D20K1+5+1D4=Max('\n",
    "assert dice_tool.RollDiceCommond('d优势+2')[1][:12] == 'D20优势+2=Max('\n",
    "assert dice_tool.RollDiceCommond('3dk1+5抗性')[1][:16] == '3D20K1+5抗性=(Max('"
   ]
  },
  {
   "cell_type": "code",
   "execution_count": 4,
   "metadata": {},
   "outputs": [],
   "source": [
    "assert dice_tool.SplitDiceCommand('d20优势+5攻击地精') == ('d20优势+5', '攻击地精')\n",
    "assert dice_tool.SplitDiceCommand('d20优势+5     攻击地精') == ('d20优势+5', '攻击地精')\n",
    "assert dice_tool.SplitDiceCommand('d20 优 势+5     攻击地精') == ('d20优势+5', '攻击地精')\n",
    "assert dice_tool.SplitDiceCommand('d20 优 势+5') == ('d20优势+5', '')"
   ]
  },
  {
   "cell_type": "code",
   "execution_count": 5,
   "metadata": {},
   "outputs": [
    {
     "name": "stdout",
     "output_type": "stream",
     "text": [
      "个人资料库加载成功!\n",
      "找到以下查询资料: ['5e_armor_weapon_phb_by_xe.json', '5e_creature_phb_dmg_by_hze.json', '5e_dmg_rule_by_pear.json', '5e_magic_items_dmg_by_hze.json', '5e_phb_rule_by_pear.json', '5e_phb_spell_list_by_pear.json', '5e_spell_feat_phb_exp.json', '5e_tools_phb_by_zxa.json']\n",
      "尝试加载5e_armor_weapon_phb_by_xe.json\n",
      "成功加载5e_armor_weapon_phb_by_xe.json, 共69个条目\n",
      "尝试加载5e_creature_phb_dmg_by_hze.json\n",
      "成功加载5e_creature_phb_dmg_by_hze.json, 共33个条目\n",
      "尝试加载5e_dmg_rule_by_pear.json\n",
      "成功加载5e_dmg_rule_by_pear.json, 共78个条目\n",
      "尝试加载5e_magic_items_dmg_by_hze.json\n",
      "成功加载5e_magic_items_dmg_by_hze.json, 共271个条目\n",
      "尝试加载5e_phb_rule_by_pear.json\n",
      "成功加载5e_phb_rule_by_pear.json, 共154个条目\n",
      "尝试加载5e_phb_spell_list_by_pear.json\n",
      "成功加载5e_phb_spell_list_by_pear.json, 共69个条目\n",
      "尝试加载5e_spell_feat_phb_exp.json\n",
      "成功加载5e_spell_feat_phb_exp.json, 共578个条目\n",
      "尝试加载5e_tools_phb_by_zxa.json\n",
      "成功加载5e_tools_phb_by_zxa.json, 共113个条目\n",
      "查询资料库加载成功! 共1359个条目\n",
      "找到以下牌堆: ['5e_wild_magic_deck.json']\n",
      "尝试加载5e_wild_magic_deck.json\n",
      "成功加载5e_wild_magic_deck.json, 牌堆名为狂野魔法浪涌表, 共49个条目\n",
      "牌库加载成功! 共1个牌堆\n"
     ]
    }
   ],
   "source": [
    "b = bot_tool.Bot()\n",
    "assert b.ProcessInput('.nn', '12345678', 'ABCD').resultStr == '要用本来的名字称呼你吗? 了解!'\n",
    "assert b.ProcessInput('.rd20', '12345678', 'TEST_USER').resultStr[:16] == 'TEST_USER掷出了D20='\n",
    "assert b.ProcessInput('.rd', '12345678', 'TEST_USER').resultStr[:16] == 'TEST_USER掷出了D20='\n",
    "assert b.ProcessInput('.rd     ', '12345678', 'TEST_USER').resultStr[:16] == 'TEST_USER掷出了D20='\n",
    "assert b.ProcessInput('.rd    未知原因', '12345678', 'TEST_USER').resultStr[:23] == '由于未知原因,TEST_USER掷出了D20='\n",
    "assert b.ProcessInput('.rd20攻击', '12345678', 'TEST_USER', 'groupId_test').resultStr[:21] == '由于攻击,TEST_USER掷出了D20='\n",
    "assert b.ProcessInput('.rd优势', '12345678', 'TEST_USER').resultStr[:22] == 'TEST_USER掷出了D20优势=Max('\n",
    "assert b.ProcessInput('.rd+5', '12345678', 'TEST_USER').resultStr[:18] == 'TEST_USER掷出了D20+5='"
   ]
  },
  {
   "cell_type": "code",
   "execution_count": 6,
   "metadata": {},
   "outputs": [],
   "source": [
    "assert b.ProcessInput('.nn', '12345678', 'ABCD').resultStr == '要用本来的名字称呼你吗? 了解!'\n",
    "assert b.ProcessInput('.nn 西瓜', '12345678', 'ABCD').resultStr == '要称呼ABCD为西瓜吗? 没问题!'\n",
    "assert b.ProcessInput('.rd20', '12345678', 'TEST_USER').resultStr[:9] == '西瓜掷出了D20='\n",
    "assert b.ProcessInput('.nn 冬瓜', '12345678', 'ABCD').resultStr == '要称呼ABCD为冬瓜吗? 没问题!'\n",
    "assert b.ProcessInput('.rd20', '12345678', 'TEST_USER').resultStr[:9] == '冬瓜掷出了D20='\n",
    "assert b.ProcessInput('.jrrp', '12345678', 'TEST_USER').resultStr[:10] == '冬瓜今天走运的概率是'\n",
    "assert b.ProcessInput('.nn', '12345678', 'ABCD').resultStr == '要用本来的名字称呼你吗? 了解!'\n",
    "assert b.ProcessInput('.rd20', '12345678', 'TEST_USER').resultStr[:16] == 'TEST_USER掷出了D20='\n",
    "assert b.ProcessInput('.jrrp', '12345678', 'TEST_USER').resultStr[:17] == 'TEST_USER今天走运的概率是'"
   ]
  },
  {
   "cell_type": "code",
   "execution_count": 7,
   "metadata": {},
   "outputs": [
    {
     "name": "stdout",
     "output_type": "stream",
     "text": [
      "先攻列表:\n",
      "1.巢穴 先攻20 \n",
      "2.格鲁特 先攻16 HP:40/50\n",
      "3.地精 先攻8 \n",
      "4.米达尔 先攻7 \n",
      "先攻列表:\n",
      "1.巢穴 先攻20 \n",
      "2.格鲁特 先攻16 HP:40/50\n"
     ]
    }
   ],
   "source": [
    "assert b.ProcessInput('.nn 格鲁特', '12345678', 'TEST_USER').resultStr == '要称呼TEST_USER为格鲁特吗? 没问题!'\n",
    "assert b.ProcessInput('.sethp 40', '12345678', 'TEST_USER', 'groupId_test').resultStr == '成功将格鲁特的生命值设置为40=40'\n",
    "assert b.ProcessInput('.sethp 40/50', '12345678', 'TEST_USER', 'groupId_test').resultStr == '成功将格鲁特的生命值设置为40=40, 最大生命值是50'\n",
    "assert b.ProcessInput('.init clr', '12345678', 'TEST_USER', 'groupId_test')\n",
    "assert b.ProcessInput('.init', '12345678', 'TEST_USER', 'groupId_test').resultStr == '还没有做好先攻列表哦'\n",
    "assert b.ProcessInput('.ri+2', '12345678', 'TEST_USER', 'groupId_test').resultStr[:12] == '格鲁特先攻:D20+2='\n",
    "assert b.ProcessInput('.ri-1', '12345678', 'TEST_USER', 'groupId_test').resultStr[:12] == '格鲁特先攻:D20-1='\n",
    "assert b.ProcessInput('.ri', '12345678', 'TEST_USER', 'groupId_test').resultStr[:10] == '格鲁特先攻:D20='\n",
    "assert b.ProcessInput('.ri-2地精', '12345678', 'TEST_USER', 'groupId_test').resultStr[:11] == '地精先攻:D20-2='\n",
    "assert b.ProcessInput('.ri劣势+1d4 地精', '12345678', 'TEST_USER', 'groupId_test').resultStr[:19] =='地精先攻:D20劣势+1D4=Min('\n",
    "assert b.ProcessInput('.ri20 巢穴', '12345678', 'TEST_USER', 'groupId_test').resultStr == '巢穴先攻:20=20'\n",
    "assert b.ProcessInput('.ri-5', '87654321', '米达尔', 'groupId_test').resultStr[:12] == '米达尔先攻:D20-5='\n",
    "print(b.ProcessInput('.init', '12345678', 'TEST_USER', 'groupId_test').resultStr)\n",
    "assert b.ProcessInput('.init del 地精', '12345678', 'TEST_USER', 'groupId_test').resultStr == '已经将地精从先攻列表中删除'\n",
    "assert b.ProcessInput('.init del米达尔', '12345678', 'TEST_USER', 'groupId_test').resultStr == '已经将米达尔从先攻列表中删除'\n",
    "print(b.ProcessInput('.init', '12345678', 'TEST_USER', 'groupId_test').resultStr)\n",
    "assert b.ProcessInput('.init clr', '12345678', 'TEST_USER', 'groupId_test')\n",
    "assert b.ProcessInput('.init', '12345678', 'TEST_USER', 'groupId_test').resultStr == '还没有做好先攻列表哦'\n",
    "assert b.ProcessInput('.nn', personId = '12345678', personName = 'TEST_USER').resultStr == '要用本来的名字称呼你吗? 了解!'\n",
    "assert b.ProcessInput('.rd20', '12345678', 'ABCD').resultStr[:11] == 'ABCD掷出了D20='\n",
    "assert b.ProcessInput('.jrrp', '12345678', 'TEST_USER').resultStr[:17] == 'TEST_USER今天走运的概率是'\n",
    "assert b.ProcessInput('.sethp', '12345678', 'TEST_USER', 'groupId_test').resultStr == '已经忘记了TEST_USER的生命值...'"
   ]
  },
  {
   "cell_type": "code",
   "execution_count": 8,
   "metadata": {},
   "outputs": [
    {
     "name": "stdout",
     "output_type": "stream",
     "text": [
      "格鲁特先攻:D20=12\n",
      "米达尔先攻:D20=7\n",
      "地精先攻:D20=14\n",
      "卓尔精灵a先攻:D20=17\n",
      "先攻列表:\n",
      "1.卓尔精灵a 先攻17 \n",
      "2.地精 先攻14 \n",
      "3.格鲁特 先攻12 \n",
      "4.米达尔 先攻7 \n",
      "成功将格鲁特的生命值设置为20=20, 最大生命值是40\n",
      "地精的生命值减少了1D8+4=5+4=9\n",
      "格鲁特的生命值增加了1D8+3=1+3=4\n",
      "成功将格鲁特的生命值设置为10=10\n",
      "卓尔精灵a的生命值减少了1D6+10=4+10=14\n",
      "成功将卓尔精灵a的生命值设置为2D8=(4+3)=7\n",
      "卓尔精灵a的生命值减少了20=20\n",
      "因为生命值降至0, 卓尔精灵a昏迷/死亡了!\n",
      "米达尔的生命值减少了3D4+3=(2+1+4)+3=10\n",
      "先攻列表:\n",
      "1.卓尔精灵a 先攻17 昏迷/死亡\n",
      "2.地精 先攻14 已损失HP:9\n",
      "3.格鲁特 先攻12 HP:10/40\n",
      "4.米达尔 先攻7 已损失HP:10\n",
      "先攻列表已经删除啦\n",
      "已经忘记了格鲁特的生命值...\n",
      "已经忘记了米达尔的生命值...\n"
     ]
    }
   ],
   "source": [
    "assert b.ProcessInput('.nn 格鲁特', '12345678', 'TEST_USER').resultStr == '要称呼TEST_USER为格鲁特吗? 没问题!'\n",
    "print(b.ProcessInput('.ri', '12345678', 'TEST_USER', 'groupId_test').resultStr)\n",
    "print(b.ProcessInput('.ri', '87654321', '米达尔', 'groupId_test').resultStr)\n",
    "print(b.ProcessInput('.ri 地精', '12345678', 'TEST_USER', 'groupId_test').resultStr)\n",
    "print(b.ProcessInput('.ri 卓尔精灵A', '12345678', 'TEST_USER', 'groupId_test').resultStr)\n",
    "print(b.ProcessInput('.init', '12345678', 'TEST_USER', 'groupId_test').resultStr)\n",
    "print(b.ProcessInput('.sethp 20/40', '12345678', 'TEST_USER', 'groupId_test').resultStr)\n",
    "print(b.ProcessInput('.sethp 地精- 1d8+4', '12345678', 'TEST_USER', 'groupId_test').resultStr)\n",
    "print(b.ProcessInput('.sethp 格+ 1d8+3', '12345678', 'TEST_USER', 'groupId_test').resultStr)\n",
    "print(b.ProcessInput('.sethp10', '12345678', 'TEST_USER', 'groupId_test').resultStr)\n",
    "print(b.ProcessInput('.sethp A-1d6+10', '12345678', 'TEST_USER', 'groupId_test').resultStr)\n",
    "print(b.ProcessInput('.sethpA2d8', '12345678', 'TEST_USER', 'groupId_test').resultStr)\n",
    "print(b.ProcessInput('.sethpA-20', '12345678', 'TEST_USER', 'groupId_test').resultStr)\n",
    "print(b.ProcessInput('.sethp米-3d4+3', '12345678', 'TEST_USER', 'groupId_test').resultStr)\n",
    "print(b.ProcessInput('.init', '12345678', 'TEST_USER', 'groupId_test').resultStr)\n",
    "print(b.ProcessInput('.init clr', '12345678', 'TEST_USER', 'groupId_test').resultStr)\n",
    "print(b.ProcessInput('.sethp', '12345678', 'TEST_USER', 'groupId_test').resultStr)\n",
    "print(b.ProcessInput('.sethp', '87654321', '米达尔', 'groupId_test').resultStr)\n",
    "assert b.ProcessInput('.nn', '12345678', 'TEST_USER').resultStr == '要用本来的名字称呼你吗? 了解!'"
   ]
  },
  {
   "cell_type": "code",
   "execution_count": 9,
   "metadata": {},
   "outputs": [],
   "source": [
    "assert b.ProcessInput('.bot on', '12345678', 'TEST_USER', 'groupId_test') == None\n",
    "assert b.ProcessInput('.bot on', '12345678', 'TEST_USER', 'groupId_test', True).resultStr == '来啦~ 让我看看哪个小可爱能得到今日份的礼物'\n",
    "assert b.ProcessInput('.bot off', '12345678', 'TEST_USER', 'groupId_test', True).resultStr == '那我就不说话咯'\n",
    "assert b.ProcessInput('.rd20沉默', '12345678', 'TEST_USER', 'groupId_test') == None\n",
    "assert b.ProcessInput('.bot on', '12345678', 'TEST_USER', 'groupId_test', True).resultStr == '来啦~ 让我看看哪个小可爱能得到今日份的礼物'\n",
    "assert b.ProcessInput('.rd20沉默', '12345678', 'TEST_USER', 'groupId_test') != None"
   ]
  },
  {
   "cell_type": "code",
   "execution_count": 10,
   "metadata": {},
   "outputs": [],
   "source": [
    "assert b.ProcessInput('.dnd', '12345678', 'TEST_USER')\n",
    "assert b.ProcessInput('.dnd 3', '12345678', 'TEST_USER', 'groupId_test')\n",
    "assert b.ProcessInput('.dnd3 大力出奇迹', '12345678', 'TEST_USER', 'groupId_test')"
   ]
  },
  {
   "cell_type": "code",
   "execution_count": 20,
   "metadata": {},
   "outputs": [],
   "source": [
    "assert b.ProcessInput('.help', '12345678', 'TEST_USER', 'groupId_test').resultStr == help_info.HELP_STR\n",
    "assert b.ProcessInput('.help指令', '12345678', 'TEST_USER', 'groupId_test').resultStr == help_info.HELP_COMMAND_STR\n",
    "assert b.ProcessInput('.help  指 令', '12345678', 'TEST_USER', 'groupId_test').resultStr == help_info.HELP_COMMAND_STR\n",
    "assert b.ProcessInput('.help链接', '12345678', 'TEST_USER', 'groupId_test').resultStr == help_info.HELP_LINK_STR\n",
    "assert b.ProcessInput('.help协议', '12345678', 'TEST_USER', 'groupId_test').resultStr == help_info.HELP_AGREEMENT_STR\n",
    "assert b.ProcessInput('.help查询', '12345678', 'TEST_USER', 'groupId_test').resultStr == help_info.HELP_COMMAND_QUERY_STR\n",
    "assert b.ProcessInput('.help draw', '12345678', 'TEST_USER', 'groupId_test').resultStr == help_info.HELP_COMMAND_DRAW_STR"
   ]
  },
  {
   "cell_type": "code",
   "execution_count": 12,
   "metadata": {},
   "outputs": [],
   "source": [
    "assert b.ProcessInput('.查询火球术', '12345678', 'TEST_USER', 'groupId_test').resultStr[:11] == '火球术Fireball'\n",
    "assert b.ProcessInput('.查询  火球术', '12345678', 'TEST_USER', 'groupId_test').resultStr[:11] == '火球术Fireball'\n",
    "assert b.ProcessInput('.查询  火 球 术', '12345678', 'TEST_USER', 'groupId_test').resultStr[:11] == '火球术Fireball'\n",
    "assert b.ProcessInput('.查询火球', '12345678', 'TEST_USER', 'groupId_test').resultStr.find('找到多个匹配的条目:') != -1\n",
    "assert b.ProcessInput('.查询   ', '12345678', 'TEST_USER', 'groupId_test')\n",
    "assert b.ProcessInput('.查询 高/隐', '12345678', 'TEST_USER', 'groupId_test').resultStr[:13] == '要找的难道是高等隐形术吗?'"
   ]
  },
  {
   "cell_type": "code",
   "execution_count": 13,
   "metadata": {},
   "outputs": [],
   "source": [
    "assert b.ProcessInput('.rhd20优势', '12345678', 'TEST_USER', 'groupId_test').personIdList == ['12345678']\n",
    "assert b.ProcessInput('.rhd20优势', '12345678', 'TEST_USER', 'groupId_test').groupIdList is None"
   ]
  },
  {
   "cell_type": "code",
   "execution_count": 14,
   "metadata": {},
   "outputs": [],
   "source": [
    "assert b.ProcessInput('.r1d8抗性', '12345678', 'TEST_USER', 'groupId_test').resultStr\n",
    "assert b.ProcessInput('.r1d8+2d10抗性', '12345678', 'TEST_USER', 'groupId_test').resultStr\n",
    "assert b.ProcessInput('.r20易伤', '12345678', 'TEST_USER', 'groupId_test').resultStr\n",
    "assert b.ProcessInput('.rd+2d8+1d4易伤', '12345678', 'TEST_USER', 'groupId_test').resultStr\n",
    "assert b.ProcessInput('.r3#1d8+1d12抗性', '12345678', 'TEST_USER', 'groupId_test').resultStr\n",
    "assert b.ProcessInput('.r易伤d+2d8+1d4', '12345678', 'TEST_USER', 'groupId_test').resultStr\n",
    "assert b.ProcessInput('.r3dk1易伤', '12345678', 'TEST_USER', 'groupId_test').resultStr"
   ]
  },
  {
   "cell_type": "code",
   "execution_count": 15,
   "metadata": {},
   "outputs": [
    {
     "data": {
      "text/plain": [
       "\"现在的记忆中共有1个牌堆呢, 分别是['狂野魔法浪涌表']\""
      ]
     },
     "execution_count": 15,
     "metadata": {},
     "output_type": "execute_result"
    }
   ],
   "source": [
    "assert b.ProcessInput('.draw 狂野', '12345678', 'TEST_USER', 'groupId_test').resultStr[:15] == '从狂野魔法浪涌表中抽取的结果:'\n",
    "assert b.ProcessInput('.draw狂野魔法浪涌表', '12345678', 'TEST_USER', 'groupId_test').resultStr[:15] == '从狂野魔法浪涌表中抽取的结果:'\n",
    "b.ProcessInput('.draw', '12345678', 'TEST_USER', 'groupId_test').resultStr"
   ]
  },
  {
   "cell_type": "code",
   "execution_count": 16,
   "metadata": {},
   "outputs": [],
   "source": [
    "# queryDict = {}\n",
    "\n",
    "# fileName = '5E_PHB_法术列表_by梨子'\n",
    "# title = ''\n",
    "# content = ''\n",
    "# with open(f'../资料/{fileName}.txt', 'r', encoding=\"utf-8-sig\") as f:\n",
    "#     data = f.readline()\n",
    "#     while data:\n",
    "#         data = data.strip()\n",
    "#         if not data:\n",
    "#             if title:\n",
    "#                 if len(title) > 15:\n",
    "#                     print(\"Title too long?\"+title+\"##\"+content)\n",
    "#                 elif len(content) < 20:\n",
    "#                     print(\"Content too small?\"+title+\"##\"+content)\n",
    "#                 queryDict[title] = content[:-1]\n",
    "#             title = ''\n",
    "#             content = ''\n",
    "#         else:\n",
    "#             if not title:\n",
    "#                 title = data\n",
    "#             else:\n",
    "#                 content += data.strip() + '\\n'\n",
    "#         data = f.readline()\n",
    "# print(queryDict.keys())\n",
    "# print(queryDict[list(queryDict.keys())[0]])\n",
    "# utils.UpdateJson(queryDict, f'./{fileName}_query.json')"
   ]
  },
  {
   "cell_type": "code",
   "execution_count": 49,
   "metadata": {},
   "outputs": [
    {
     "name": "stdout",
     "output_type": "stream",
     "text": [
      "狂野魔法浪涌表\n",
      "50\n",
      "01~02 下1分钟内，你在每次自己回合开始时重骰本表，并在后续的掷骰中跳过本结果。\n",
      "03~04 下1分钟内，你可以看到任何处于你视线范围内的隐形生物。\n",
      "05~06 一只由DM选用及操控的魔冢出现在你身边5尺范围内一处未被占据空间中，并在1分钟后消失不见。\n",
      "07~08 你以3环法术效应施展火球术，并且以你自身为爆发中心。\n",
      "09~10 你以5环法术效应施展魔法飞弹。\n",
      "11~12 骰一次d10，并以骰值为寸数改变你的身高。奇数变矮，偶数则长高。\n",
      "13~14 你以自身为中心施展困惑术。\n",
      "15~16 下1分钟内，你在每次自己回合开始时恢复5点生命值。\n",
      "17~18 你脸上长出一大把的羽毛。一旦你打了喷嚏，这些羽毛会从你的脸上炸开。\n",
      "19~20 你以自身为中心施展油腻术。\n",
      "21~22 下1分钟内，你施展第一个需要豁免检定的法术时，其目标生物进行检定时具有劣势。\n",
      "23~24 你的皮肤显出微蓝的颜色。法术移除诅咒可结束此效应。\n",
      "25~26 你的前额长出第三只眼并持续存在1分钟。下1分钟内，你所有依赖视觉进行的感知（察觉）检定具有优势。\n",
      "27~28 下1分钟内，你可用1附赠动作施展任何施法时间为1动作的法术。\n",
      "29~30 指定一个距你60尺内，未被占据且你可以看见的空间，并将你自己传送到那里。\n",
      "31~32 你被传送到星界，直至你下一回合结束时返回原位。如果此时该空间被占据，则你出现该出附近一个未被占据空间内。\n",
      "33~34 下1分钟内，你施展下一个伤害性法术时其伤害掷骰取满值。\n",
      "35~36 骰一次d10，并以骰值为年数改变你的年龄。奇数变年轻（至少变年轻1岁），偶数变则老。\n",
      "37~38 1d6只有DM操控的呋噜怪出现在距你60尺内的未被占据空间，并因你而陷入恐慌。它们将在1分钟后消失不见。\n",
      "39~40 你恢复2d10点生命值。\n",
      "41~42 你变成一棵盆栽，状态持续至你下一回合开始。作为盆栽时，你陷入失能状态，并具有所有伤害类型的易伤。如果你的生命值降至0，则你的花盆被打碎，而你恢复原形。\n",
      "43~44 下1分钟内，你可以在每个自己回合内以一个附赠动作传送至多20尺。\n",
      "45~46 你对自身施展浮空术。\n",
      "47~48 一只由DM控制的独角兽出现在你身边5尺范围内，并在1分钟后消失不见。\n",
      "49~50 下1分钟内，你无法说话。你一张嘴就会吐出粉色的泡泡。\n",
      "51~52 下1分钟内，一面鬼灵盾牌保护着你，为你的AC提供 +2加值，并使你免疫魔法飞弹。\n",
      "53~54 在接下来5d6天内，你免疫醉酒。\n",
      "55~56 你的头发掉光，不过可以在24小时后恢复。\n",
      "57~58 下1分钟内，你接触的任何未被人着装或携带的可燃物都会被点燃。\n",
      "59~60 你恢复已消耗的最低环阶法术位。\n",
      "61~62 下1分钟内，你说话时只能喊叫。\n",
      "63~64 你以自身为中心施展云雾术。\n",
      "65~66 你指定至多三个距离你30尺内的生物，使之承受4d10点闪电伤害。\n",
      "67~68 你因最近的生物而陷入恐慌，直至你的下一回合结束。\n",
      "69~70 你身边30尺内所有生物在下一分钟内进入隐形。一旦其施法或攻击则结束其隐形状态。\n",
      "71~72 下1分钟内，你具有所有类型伤害的抗性。\n",
      "73~74 距离你60尺内的一个随机生物陷入持续1d4小时的中毒状态。\n",
      "75~76 下1分钟内，你发出30尺半径的明亮光照。任何在你周边5尺范围内结束其回合的生物将陷入目盲，并持续至其下一回合结束。\n",
      "77~78 你对自身施展变形术。如若豁免失败，则你在法术持续时间内被变成绵羊。\n",
      "79~80 下1分钟内，你身边10尺范围不断出现虚幻的蝴蝶和花瓣。\n",
      "81~82 你可以立刻执行一个动作。\n",
      "83~84 距离你30尺内的所有生物受到1d10点黯蚀伤害。你恢复等于伤害值的总和数值的生命值。\n",
      "85~86 你施展镜影术。\n",
      "87~88 你对身边60尺内随机一个生物施展飞行术。\n",
      "89~90 下1分钟内，你进入隐形，且其他生物无法听见你的声音。你一旦施法或攻击则隐形结束。\n",
      "91~92 如果你在下1分钟内死亡，则你立刻复活，如同被施展法术转生术。\n",
      "93~94 下1分钟内，你的体型暂时变大一级。\n",
      "95~96 下1分钟内，你和你身边30尺内所有生物获得穿刺伤害的易伤。\n",
      "97~98 下1分钟内，你被空灵的音乐声环绕。\n",
      "99~00 你恢复全部已消耗的术法点。\n"
     ]
    }
   ],
   "source": [
    "# fileName = '狂野魔法浪涌表'\n",
    "# deckDict = {}\n",
    "# deckTitle = ''\n",
    "# deckList = []\n",
    "# with open(f'../资料/牌堆/{fileName}.txt', 'r', encoding=\"utf-8-sig\") as f:\n",
    "#     data = f.readline()\n",
    "#     deckTitle = data.strip()\n",
    "#     data = f.readline().strip()\n",
    "#     while data:\n",
    "#         data = data\n",
    "#         deckList.append(data)\n",
    "#         data = f.readline().strip()\n",
    "\n",
    "# # print(deckList[0])\n",
    "# deckDict['title'] = deckTitle\n",
    "# deckDict['list'] = deckList\n",
    "# utils.UpdateJson(deckDict, f'./{fileName}_deck.json')\n",
    "# print(deckTitle)\n",
    "# print(len(deckDict['list']))\n",
    "# for i in range(len(deckDict['list'])):\n",
    "#       print(deckDict['list'][i])"
   ]
  }
 ],
 "metadata": {
  "kernelspec": {
   "display_name": "Python 3",
   "language": "python",
   "name": "python3"
  },
  "language_info": {
   "codemirror_mode": {
    "name": "ipython",
    "version": 3
   },
   "file_extension": ".py",
   "mimetype": "text/x-python",
   "name": "python",
   "nbconvert_exporter": "python",
   "pygments_lexer": "ipython3",
   "version": "3.7.3"
  }
 },
 "nbformat": 4,
 "nbformat_minor": 2
}
