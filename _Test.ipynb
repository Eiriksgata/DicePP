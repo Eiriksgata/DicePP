{
 "cells": [
  {
   "cell_type": "code",
   "execution_count": 1,
   "metadata": {},
   "outputs": [
    {
     "name": "stderr",
     "output_type": "stream",
     "text": [
      "ujson module not found, using json\n"
     ]
    },
    {
     "name": "stdout",
     "output_type": "stream",
     "text": [
      "个人资料库加载成功!\n",
      "找到以下查询资料: ['5e_armor_weapon_phb_by_xe.json', '5e_creature_phb_dmg_by_hze.json', '5e_dmg_rule_by_pear.json', '5e_exp_classes_by_hh_pear.json', '5e_magic_items_by_hh.json', '5e_magic_items_dmg_by_hze.json', '5e_module_items_by_hh.json', '5e_phb_classes_by_pear_hze_xe.json', '5e_phb_races_by_pear.json', '5e_phb_rule_by_pear.json', '5e_phb_spell_list_by_pear.json', '5e_spell_feat_phb_exp.json', '5e_tools_phb_by_zxa.json']\n",
      "尝试加载5e_armor_weapon_phb_by_xe.json\n",
      "成功加载5e_armor_weapon_phb_by_xe.json, 共69个条目\n",
      "尝试加载5e_creature_phb_dmg_by_hze.json\n",
      "成功加载5e_creature_phb_dmg_by_hze.json, 共33个条目\n",
      "尝试加载5e_dmg_rule_by_pear.json\n",
      "成功加载5e_dmg_rule_by_pear.json, 共78个条目\n",
      "尝试加载5e_exp_classes_by_hh_pear.json\n",
      "成功加载5e_exp_classes_by_hh_pear.json, 共262个条目\n",
      "尝试加载5e_magic_items_by_hh.json\n",
      "成功加载5e_magic_items_by_hh.json, 共100个条目\n",
      "尝试加载5e_magic_items_dmg_by_hze.json\n",
      "成功加载5e_magic_items_dmg_by_hze.json, 共271个条目\n",
      "尝试加载5e_module_items_by_hh.json\n",
      "成功加载5e_module_items_by_hh.json, 共102个条目\n",
      "尝试加载5e_phb_classes_by_pear_hze_xe.json\n",
      "成功加载5e_phb_classes_by_pear_hze_xe.json, 共586个条目\n",
      "尝试加载5e_phb_races_by_pear.json\n",
      "成功加载5e_phb_races_by_pear.json, 共74个条目\n",
      "尝试加载5e_phb_rule_by_pear.json\n",
      "成功加载5e_phb_rule_by_pear.json, 共176个条目\n",
      "尝试加载5e_phb_spell_list_by_pear.json\n",
      "成功加载5e_phb_spell_list_by_pear.json, 共70个条目\n",
      "尝试加载5e_spell_feat_phb_exp.json\n",
      "成功加载5e_spell_feat_phb_exp.json, 共578个条目\n",
      "尝试加载5e_tools_phb_by_zxa.json\n",
      "成功加载5e_tools_phb_by_zxa.json, 共113个条目\n",
      "查询资料库加载成功! 共2507个条目\n",
      "找到以下牌堆: ['5e_deck_of_many_things_deck.json', '5e_wild_magic_deck.json']\n",
      "尝试加载5e_deck_of_many_things_deck.json\n",
      "成功加载5e_deck_of_many_things_deck.json, 牌堆名为万象无常牌, 共22个条目\n",
      "尝试加载5e_wild_magic_deck.json\n",
      "成功加载5e_wild_magic_deck.json, 牌堆名为狂野魔法浪涌表, 共50个条目\n",
      "牌库加载成功! 共2个牌堆\n",
      "找到以下菜谱: ['drink_menu.json', 'mix_menu.json']\n",
      "尝试加载drink_menu.json\n",
      "成功加载drink_menu.json, 共30个菜谱\n",
      "尝试加载mix_menu.json\n",
      "成功加载mix_menu.json, 共115个菜谱\n",
      "菜谱资料库加载成功! 共145个菜谱\n"
     ]
    }
   ],
   "source": [
    "# import importlib\n",
    "\n",
    "import numpy as np\n",
    "import datetime\n",
    "\n",
    "import plugins.custom_config as custom_config\n",
    "import plugins.bot_tool as bot_tool\n",
    "# from bot_tool import *\n",
    "import plugins.dice_tool as dice_tool\n",
    "import plugins.help_info as help_info\n",
    "# from dice_tool import *\n",
    "import plugins.utils as utils\n",
    "\n",
    "# importlib.reload(bot_tool)\n",
    "# importlib.reload(dice_tool)\n",
    "# importlib.reload(utils)"
   ]
  },
  {
   "cell_type": "code",
   "execution_count": 2,
   "metadata": {},
   "outputs": [],
   "source": [
    "assert utils.ChineseToEnglishSymbol('。') == '.'\n",
    "assert utils.ChineseToEnglishSymbol('.') == '.'\n",
    "assert utils.int2str(4) == '+4'\n",
    "assert utils.int2str(0) == '+0'\n",
    "assert utils.int2str(-1) == '-1'\n",
    "\n",
    "assert bot_tool.ParseInput('.rd20').equal(utils.Command(utils.CommandType.Roll, ['d20', '', False]))\n",
    "assert bot_tool.ParseInput(' . r D20 reason').equal(utils.Command(utils.CommandType.Roll, ['d20', 'reason', False]))\n",
    "assert bot_tool.ParseInput('.r').equal(utils.Command(utils.CommandType.Roll, ['', '', False]))\n",
    "assert bot_tool.ParseInput('abc') is None\n",
    "assert bot_tool.ParseInput('') is None\n",
    "assert bot_tool.ParseInput('测试') is None"
   ]
  },
  {
   "cell_type": "code",
   "execution_count": 3,
   "metadata": {},
   "outputs": [],
   "source": [
    "assert dice_tool.RollDiceCommond('12') [2][0] == 12 and dice_tool.RollDiceCommond('12') [1] == '12=12'\n",
    "assert dice_tool.RollDiceCommond('4d6+2')[0] == 0 and dice_tool.RollDiceCommond('4d6+2') [1][:6] == '4D6+2='\n",
    "assert dice_tool.RollDiceCommond('d20') [0] == 0 and dice_tool.RollDiceCommond('d20') [1][:3] == 'D20'\n",
    "assert dice_tool.RollDiceCommond('d') [0] == 0 and dice_tool.RollDiceCommond('d') [1][:3] == 'D20'\n",
    "assert dice_tool.RollDiceCommond('1D4') [0] == 0\n",
    "assert dice_tool.RollDiceCommond('30D4') [0] == 0\n",
    "assert dice_tool.RollDiceCommond('D20优势+2') [0] == 0 and dice_tool.RollDiceCommond('D20优势+2') [1][:12] == 'D20优势+2=Max('\n",
    "assert dice_tool.RollDiceCommond('D20劣势-4') [0] == 0 and dice_tool.RollDiceCommond('D20劣势-4') [1][:12] == 'D20劣势-4=Min('\n",
    "assert dice_tool.RollDiceCommond('4d6k3') [0] == 0 and dice_tool.RollDiceCommond('4d6k3') [1][:11] == '4D6K3=Max3('\n",
    "assert dice_tool.RollDiceCommond('6#4d6k3') [0] == 0 and dice_tool.RollDiceCommond('6#4d6k3') [1][:14] == '6次4D6K3={\\nMax3'\n",
    "assert dice_tool.RollDiceCommond('2d20k1+5+1d4') [0] == 0 and dice_tool.RollDiceCommond('2d20k1+5+1d4') [1][:17] == '2D20K1+5+1D4=Max('\n",
    "assert dice_tool.RollDiceCommond('d优势+2')[1][:12] == 'D20优势+2=Max('\n",
    "assert dice_tool.RollDiceCommond('3dk1+5抗性')[1][:16] == '3D20K1+5抗性=(Max('"
   ]
  },
  {
   "cell_type": "code",
   "execution_count": 4,
   "metadata": {},
   "outputs": [],
   "source": [
    "assert dice_tool.SplitDiceCommand('d20优势+5攻击地精') == ('d20优势+5', '攻击地精')\n",
    "assert dice_tool.SplitDiceCommand('d20优势+5     攻击地精') == ('d20优势+5', '攻击地精')\n",
    "assert dice_tool.SplitDiceCommand('d20 优 势+5     攻击地精') == ('d20优势+5', '攻击地精')\n",
    "assert dice_tool.SplitDiceCommand('d20 优 势+5') == ('d20优势+5', '')"
   ]
  },
  {
   "cell_type": "code",
   "execution_count": 5,
   "metadata": {},
   "outputs": [
    {
     "name": "stdout",
     "output_type": "stream",
     "text": [
      "个人资料库加载成功!\n",
      "找到以下查询资料: ['5e_armor_weapon_phb_by_xe.json', '5e_creature_phb_dmg_by_hze.json', '5e_dmg_rule_by_pear.json', '5e_exp_classes_by_hh_pear.json', '5e_magic_items_by_hh.json', '5e_magic_items_dmg_by_hze.json', '5e_module_items_by_hh.json', '5e_phb_classes_by_pear_hze_xe.json', '5e_phb_races_by_pear.json', '5e_phb_rule_by_pear.json', '5e_phb_spell_list_by_pear.json', '5e_spell_feat_phb_exp.json', '5e_tools_phb_by_zxa.json']\n",
      "尝试加载5e_armor_weapon_phb_by_xe.json\n",
      "成功加载5e_armor_weapon_phb_by_xe.json, 共69个条目\n",
      "尝试加载5e_creature_phb_dmg_by_hze.json\n",
      "成功加载5e_creature_phb_dmg_by_hze.json, 共33个条目\n",
      "尝试加载5e_dmg_rule_by_pear.json\n",
      "成功加载5e_dmg_rule_by_pear.json, 共78个条目\n",
      "尝试加载5e_exp_classes_by_hh_pear.json\n",
      "成功加载5e_exp_classes_by_hh_pear.json, 共262个条目\n",
      "尝试加载5e_magic_items_by_hh.json\n",
      "成功加载5e_magic_items_by_hh.json, 共100个条目\n",
      "尝试加载5e_magic_items_dmg_by_hze.json\n",
      "成功加载5e_magic_items_dmg_by_hze.json, 共271个条目\n",
      "尝试加载5e_module_items_by_hh.json\n",
      "成功加载5e_module_items_by_hh.json, 共102个条目\n",
      "尝试加载5e_phb_classes_by_pear_hze_xe.json\n",
      "成功加载5e_phb_classes_by_pear_hze_xe.json, 共586个条目\n",
      "尝试加载5e_phb_races_by_pear.json\n",
      "成功加载5e_phb_races_by_pear.json, 共74个条目\n",
      "尝试加载5e_phb_rule_by_pear.json\n",
      "成功加载5e_phb_rule_by_pear.json, 共176个条目\n",
      "尝试加载5e_phb_spell_list_by_pear.json\n",
      "成功加载5e_phb_spell_list_by_pear.json, 共70个条目\n",
      "尝试加载5e_spell_feat_phb_exp.json\n",
      "成功加载5e_spell_feat_phb_exp.json, 共578个条目\n",
      "尝试加载5e_tools_phb_by_zxa.json\n",
      "成功加载5e_tools_phb_by_zxa.json, 共113个条目\n",
      "查询资料库加载成功! 共2507个条目\n",
      "找到以下牌堆: ['5e_deck_of_many_things_deck.json', '5e_wild_magic_deck.json']\n",
      "尝试加载5e_deck_of_many_things_deck.json\n",
      "成功加载5e_deck_of_many_things_deck.json, 牌堆名为万象无常牌, 共22个条目\n",
      "尝试加载5e_wild_magic_deck.json\n",
      "成功加载5e_wild_magic_deck.json, 牌堆名为狂野魔法浪涌表, 共50个条目\n",
      "牌库加载成功! 共2个牌堆\n",
      "找到以下菜谱: ['drink_menu.json', 'mix_menu.json']\n",
      "尝试加载drink_menu.json\n",
      "成功加载drink_menu.json, 共30个菜谱\n",
      "尝试加载mix_menu.json\n",
      "成功加载mix_menu.json, 共115个菜谱\n",
      "菜谱资料库加载成功! 共145个菜谱\n"
     ]
    }
   ],
   "source": [
    "b = bot_tool.Bot()"
   ]
  },
  {
   "cell_type": "code",
   "execution_count": 6,
   "metadata": {},
   "outputs": [],
   "source": [
    "assert b.ProcessInput('.nn', '12345678', 'ABCD')[0].resultStr == '要用本来的名字称呼你吗? 了解!'\n",
    "assert b.ProcessInput('.rd20', '12345678', 'TEST_USER')[0].resultStr[:16] == 'TEST_USER掷出了D20='\n",
    "assert b.ProcessInput('.rd', '12345678', 'TEST_USER')[0].resultStr[:16] == 'TEST_USER掷出了D20='\n",
    "assert b.ProcessInput('.rd     ', '12345678', 'TEST_USER')[0].resultStr[:16] == 'TEST_USER掷出了D20='\n",
    "assert b.ProcessInput('.rd    未知原因', '12345678', 'TEST_USER')[0].resultStr[:23] == '由于未知原因,TEST_USER掷出了D20='\n",
    "assert b.ProcessInput('.rd20攻击', '12345678', 'TEST_USER')[0].resultStr[:21] == '由于攻击,TEST_USER掷出了D20='\n",
    "assert b.ProcessInput('.rd优势', '12345678', 'TEST_USER')[0].resultStr[:22] == 'TEST_USER掷出了D20优势=Max('\n",
    "assert b.ProcessInput('.rd+5', '12345678', 'TEST_USER')[0].resultStr[:18] == 'TEST_USER掷出了D20+5='"
   ]
  },
  {
   "cell_type": "code",
   "execution_count": 7,
   "metadata": {},
   "outputs": [],
   "source": [
    "assert b.ProcessInput('.nn', '12345678', 'ABCD')[0].resultStr == '要用本来的名字称呼你吗? 了解!'\n",
    "assert b.ProcessInput('.nn 西瓜', '12345678', 'ABCD')[0].resultStr == '要称呼ABCD为西瓜吗? 没问题!'\n",
    "assert b.ProcessInput('.rd20', '12345678', 'TEST_USER')[0].resultStr[:9] == '西瓜掷出了D20='\n",
    "assert b.ProcessInput('.nn 冬瓜', '12345678', 'ABCD')[0].resultStr == '要称呼ABCD为冬瓜吗? 没问题!'\n",
    "assert b.ProcessInput('.rd20', '12345678', 'TEST_USER')[0].resultStr[:9] == '冬瓜掷出了D20='\n",
    "assert b.ProcessInput('.jrrp', '12345678', 'TEST_USER')[0].resultStr[:10] == '冬瓜今天走运的概率是'\n",
    "assert b.ProcessInput('.nn', '12345678', 'ABCD')[0].resultStr == '要用本来的名字称呼你吗? 了解!'\n",
    "assert b.ProcessInput('.rd20', '12345678', 'TEST_USER')[0].resultStr[:16] == 'TEST_USER掷出了D20='\n",
    "assert b.ProcessInput('.jrrp', '12345678', 'TEST_USER')[0].resultStr[:17] == 'TEST_USER今天走运的概率是'"
   ]
  },
  {
   "cell_type": "code",
   "execution_count": 8,
   "metadata": {},
   "outputs": [],
   "source": [
    "assert b.ProcessInput('.nn 格鲁特', '12345678', 'TEST_USER', 'groupId_test')[0].resultStr == '要称呼TEST_USER为格鲁特吗? 没问题!'\n",
    "assert b.ProcessInput('.hp 40', '12345678', 'TEST_USER', 'groupId_test')[0].resultStr == '成功将格鲁特的生命值设置为40=40'\n",
    "assert b.ProcessInput('.hp 40/50', '12345678', 'TEST_USER', 'groupId_test')[0].resultStr == '成功将格鲁特的生命值设置为40=40, 最大生命值是50'\n",
    "assert b.ProcessInput('.init clr', '12345678', 'TEST_USER', 'groupId_test')[0]\n",
    "assert b.ProcessInput('.init', '12345678', 'TEST_USER', 'groupId_test')[0].resultStr == '还没有做好先攻列表哦'\n",
    "assert b.ProcessInput('.ri+2', '12345678', 'TEST_USER', 'groupId_test')[0].resultStr[:12] == '格鲁特先攻:D20+2='\n",
    "assert b.ProcessInput('.ri-1', '12345678', 'TEST_USER', 'groupId_test')[0].resultStr[:12] == '格鲁特先攻:D20-1='\n",
    "assert b.ProcessInput('.ri', '12345678', 'TEST_USER', 'groupId_test')[0].resultStr[:10] == '格鲁特先攻:D20='\n",
    "assert b.ProcessInput('.ri-2地精', '12345678', 'TEST_USER', 'groupId_test')[0].resultStr[:11] == '地精先攻:D20-2='\n",
    "assert b.ProcessInput('.ri劣势+1d4 地精', '12345678', 'TEST_USER', 'groupId_test')[0].resultStr[:19] =='地精先攻:D20劣势+1D4=Min('\n",
    "assert b.ProcessInput('.ri20 巢穴', '12345678', 'TEST_USER', 'groupId_test')[0].resultStr == '巢穴先攻:20=20'\n",
    "assert b.ProcessInput('.ri-5', '87654321', '米达尔', 'groupId_test')[0].resultStr[:12] == '米达尔先攻:D20-5='\n",
    "assert b.ProcessInput('.init', '12345678', 'TEST_USER', 'groupId_test')[0].resultStr\n",
    "assert b.ProcessInput('.init del 地精', '12345678', 'TEST_USER', 'groupId_test')[0].resultStr == '已经将地精从先攻列表中删除'\n",
    "assert b.ProcessInput('.init del米达尔', '12345678', 'TEST_USER', 'groupId_test')[0].resultStr == '已经将米达尔从先攻列表中删除'\n",
    "assert b.ProcessInput('.init', '12345678', 'TEST_USER', 'groupId_test')[0].resultStr\n",
    "assert b.ProcessInput('.init clr', '12345678', 'TEST_USER', 'groupId_test')[0]\n",
    "assert b.ProcessInput('.init', '12345678', 'TEST_USER', 'groupId_test')[0].resultStr == '还没有做好先攻列表哦'\n",
    "assert b.ProcessInput('.nn', '12345678', 'TEST_USER', 'groupId_test')[0].resultStr == '要用本来的名字称呼你吗? 了解!'\n",
    "assert b.ProcessInput('.rd20', '12345678', 'ABCD')[0].resultStr[:11] == 'ABCD掷出了D20='\n",
    "assert b.ProcessInput('.jrrp', '12345678', 'TEST_USER')[0].resultStr[:17] == 'TEST_USER今天走运的概率是'\n",
    "assert b.ProcessInput('.hp', '12345678', 'TEST_USER', 'groupId_test')[0].resultStr == '已经忘记了TEST_USER的生命值...'"
   ]
  },
  {
   "cell_type": "code",
   "execution_count": 9,
   "metadata": {},
   "outputs": [],
   "source": [
    "assert b.ProcessInput('.nn 格鲁特', '12345678', 'TEST_USER')[0].resultStr == '要称呼TEST_USER为格鲁特吗? 没问题!'\n",
    "assert b.ProcessInput('.ri', '12345678', 'TEST_USER', 'groupId_test')[0].resultStr\n",
    "assert b.ProcessInput('.ri', '87654321', '米达尔', 'groupId_test')[0].resultStr\n",
    "assert b.ProcessInput('.ri 地精', '12345678', 'TEST_USER', 'groupId_test')[0].resultStr\n",
    "assert b.ProcessInput('.ri 卓尔精灵A', '12345678', 'TEST_USER', 'groupId_test')[0].resultStr\n",
    "assert b.ProcessInput('.init', '12345678', 'TEST_USER', 'groupId_test')[0].resultStr\n",
    "assert b.ProcessInput('.hp 20/40', '12345678', 'TEST_USER', 'groupId_test')[0].resultStr\n",
    "assert b.ProcessInput('.hp 地精- 1d8+4', '12345678', 'TEST_USER', 'groupId_test')[0].resultStr\n",
    "assert b.ProcessInput('.hp 格+ 1d8+3', '12345678', 'TEST_USER', 'groupId_test')[0].resultStr\n",
    "assert b.ProcessInput('.hp10', '12345678', 'TEST_USER', 'groupId_test')[0].resultStr\n",
    "assert b.ProcessInput('.hp A-1d6+10', '12345678', 'TEST_USER', 'groupId_test')[0].resultStr\n",
    "assert b.ProcessInput('.hpA2d8', '12345678', 'TEST_USER', 'groupId_test')[0].resultStr\n",
    "assert b.ProcessInput('.hpA-20', '12345678', 'TEST_USER', 'groupId_test')[0].resultStr\n",
    "assert b.ProcessInput('.hp米-3d4+3', '12345678', 'TEST_USER', 'groupId_test')[0].resultStr\n",
    "assert b.ProcessInput('.init', '12345678', 'TEST_USER', 'groupId_test')[0].resultStr\n",
    "assert b.ProcessInput('.init clr', '12345678', 'TEST_USER', 'groupId_test')[0].resultStr\n",
    "assert b.ProcessInput('.hp', '12345678', 'TEST_USER', 'groupId_test')[0].resultStr\n",
    "assert b.ProcessInput('.hp', '87654321', '米达尔', 'groupId_test')[0].resultStr\n",
    "assert b.ProcessInput('.nn', '12345678', 'TEST_USER')[0].resultStr == '要用本来的名字称呼你吗? 了解!'"
   ]
  },
  {
   "cell_type": "code",
   "execution_count": 10,
   "metadata": {},
   "outputs": [],
   "source": [
    "assert b.ProcessInput('.init clr', '12345678', 'TEST_USER', 'groupId_test')[0].resultStr\n",
    "assert b.ProcessInput('.ri', '12345678', 'TEST_USER', 'groupId_test')[0].resultStr\n",
    "assert b.ProcessInput('.hp 10', '12345678', 'TEST_USER', 'groupId_test')[0].resultStr\n",
    "assert b.ProcessInput('.hp 20', '87654321', 'TEST_USER2', 'groupId_test')[0].resultStr\n",
    "assert b.ProcessInput('.ri 约翰', '12345678', 'TEST_USER', 'groupId_test')[0].resultStr\n",
    "assert b.ProcessInput('.nn 约瑟夫', '12345678', 'TEST_USER', 'groupId_test')[0].resultStr\n",
    "assert b.ProcessInput('.nn 约翰', '87654321', 'TEST_USER2', 'groupId_test')[0].resultStr\n",
    "assert b.ProcessInput('.init', '12345678', 'TEST_USER', 'groupId_test')[0].resultStr\n",
    "assert b.ProcessInput('.nn', '12345678', 'TEST_USER', 'groupId_test')[0].resultStr\n",
    "assert b.ProcessInput('.nn', '87654321', 'TEST_USER2', 'groupId_test')[0].resultStr\n",
    "assert b.ProcessInput('.init clr', '12345678', 'TEST_USER', 'groupId_test')[0].resultStr"
   ]
  },
  {
   "cell_type": "code",
   "execution_count": 11,
   "metadata": {},
   "outputs": [],
   "source": [
    "assert b.ProcessInput('.bot on', '12345678', 'TEST_USER', 'groupId_test') == None\n",
    "assert b.ProcessInput('.bot on', '12345678', 'TEST_USER', 'groupId_test', True)[0].resultStr\n",
    "assert b.ProcessInput('.bot off', '12345678', 'TEST_USER', 'groupId_test', True)[0].resultStr\n",
    "assert b.ProcessInput('.rd20沉默', '12345678', 'TEST_USER', 'groupId_test') == None\n",
    "assert b.ProcessInput('.bot on', '12345678', 'TEST_USER', 'groupId_test', True)[0].resultStr\n",
    "assert b.ProcessInput('.rd20沉默', '12345678', 'TEST_USER', 'groupId_test')[0] != None"
   ]
  },
  {
   "cell_type": "code",
   "execution_count": 12,
   "metadata": {},
   "outputs": [],
   "source": [
    "assert b.ProcessInput('.dnd', '12345678', 'TEST_USER')[0]\n",
    "assert b.ProcessInput('.dnd 3', '12345678', 'TEST_USER', 'groupId_test')[0]\n",
    "assert b.ProcessInput('.dnd3 大力出奇迹', '12345678', 'TEST_USER', 'groupId_test')[0]"
   ]
  },
  {
   "cell_type": "code",
   "execution_count": 13,
   "metadata": {},
   "outputs": [],
   "source": [
    "assert b.ProcessInput('.help', '12345678', 'TEST_USER', 'groupId_test')[0].resultStr == help_info.HELP_STR\n",
    "assert b.ProcessInput('.help指令', '12345678', 'TEST_USER', 'groupId_test')[0].resultStr == help_info.HELP_COMMAND_STR\n",
    "assert b.ProcessInput('.help  指 令', '12345678', 'TEST_USER', 'groupId_test')[0].resultStr == help_info.HELP_COMMAND_STR\n",
    "assert b.ProcessInput('.help链接', '12345678', 'TEST_USER', 'groupId_test')[0].resultStr == help_info.HELP_LINK_STR\n",
    "assert b.ProcessInput('.help协议', '12345678', 'TEST_USER', 'groupId_test')[0].resultStr == help_info.HELP_AGREEMENT_STR\n",
    "assert b.ProcessInput('.help查询', '12345678', 'TEST_USER', 'groupId_test')[0].resultStr == help_info.HELP_COMMAND_QUERY_STR\n",
    "assert b.ProcessInput('.help draw', '12345678', 'TEST_USER', 'groupId_test')[0].resultStr == help_info.HELP_COMMAND_DRAW_STR"
   ]
  },
  {
   "cell_type": "code",
   "execution_count": 14,
   "metadata": {},
   "outputs": [],
   "source": [
    "assert b.ProcessInput('.查询火球术', '12345678', 'TEST_USER', 'groupId_test')[0].resultStr[:11] == '火球术Fireball'\n",
    "assert b.ProcessInput('.查询  火球术', '12345678', 'TEST_USER', 'groupId_test')[0].resultStr[:11] == '火球术Fireball'\n",
    "assert b.ProcessInput('.查询  火 球 术', '12345678', 'TEST_USER', 'groupId_test')[0].resultStr[:11] == '火球术Fireball'\n",
    "assert b.ProcessInput('.查询火球', '12345678', 'TEST_USER', 'groupId_test')[0].resultStr.find('找到多个匹配的条目:') != -1\n",
    "assert b.ProcessInput('.查询   ', '12345678', 'TEST_USER', 'groupId_test')[0]\n",
    "assert b.ProcessInput('.查询 高/隐', '12345678', 'TEST_USER', 'groupId_test')[0].resultStr[:13]"
   ]
  },
  {
   "cell_type": "code",
   "execution_count": 15,
   "metadata": {},
   "outputs": [],
   "source": [
    "assert b.ProcessInput('.rhd20优势', '12345678', 'TEST_USER', 'groupId_test')[0].personIdList == ['12345678']\n",
    "assert b.ProcessInput('.rhd20优势', '12345678', 'TEST_USER', 'groupId_test')[0].groupIdList is None"
   ]
  },
  {
   "cell_type": "code",
   "execution_count": 16,
   "metadata": {},
   "outputs": [],
   "source": [
    "assert b.ProcessInput('.r1d8抗性', '12345678', 'TEST_USER', 'groupId_test')[0].resultStr\n",
    "assert b.ProcessInput('.r1d8+2d10抗性', '12345678', 'TEST_USER', 'groupId_test')[0].resultStr\n",
    "assert b.ProcessInput('.r20易伤', '12345678', 'TEST_USER', 'groupId_test')[0].resultStr\n",
    "assert b.ProcessInput('.rd+2d8+1d4易伤', '12345678', 'TEST_USER', 'groupId_test')[0].resultStr\n",
    "assert b.ProcessInput('.r3#1d8+1d12抗性', '12345678', 'TEST_USER', 'groupId_test')[0].resultStr\n",
    "assert b.ProcessInput('.r易伤d+2d8+1d4', '12345678', 'TEST_USER', 'groupId_test')[0].resultStr\n",
    "assert b.ProcessInput('.r3dk1易伤', '12345678', 'TEST_USER', 'groupId_test')[0].resultStr"
   ]
  },
  {
   "cell_type": "code",
   "execution_count": 17,
   "metadata": {},
   "outputs": [
    {
     "data": {
      "text/plain": [
       "\"现在的记忆中共有2个牌堆呢, 分别是['万象无常牌', '狂野魔法浪涌表']\""
      ]
     },
     "execution_count": 17,
     "metadata": {},
     "output_type": "execute_result"
    }
   ],
   "source": [
    "assert b.ProcessInput('.draw 狂野', '12345678', 'TEST_USER', 'groupId_test')[0].resultStr[:15] == '从狂野魔法浪涌表中抽取的结果:'\n",
    "assert b.ProcessInput('.draw狂野魔法浪涌表', '12345678', 'TEST_USER', 'groupId_test')[0].resultStr[:15] == '从狂野魔法浪涌表中抽取的结果:'\n",
    "b.ProcessInput('.draw', '12345678', 'TEST_USER', 'groupId_test')[0].resultStr"
   ]
  },
  {
   "cell_type": "code",
   "execution_count": 18,
   "metadata": {},
   "outputs": [],
   "source": [
    "assert b.ProcessInput('.烹饪', '12345678', 'TEST_USER', 'groupId_test')[0].resultStr\n",
    "assert b.ProcessInput('.烹饪-4', '12345678', 'TEST_USER', 'groupId_test')[0].resultStr\n",
    "assert b.ProcessInput('.烹饪优势+1d4', '12345678', 'TEST_USER', 'groupId_test')[0].resultStr\n",
    "assert b.ProcessInput('.烹饪 经典/主菜', '12345678', 'TEST_USER', 'groupId_test')[0].resultStr\n",
    "assert b.ProcessInput('.烹饪 野炊', '12345678', 'TEST_USER', 'groupId_test')[0].resultStr\n",
    "assert b.ProcessInput('.烹饪 经典/主菜////精灵/黑暗/奢侈', '12345678', 'TEST_USER', 'groupId_test')[0].resultStr"
   ]
  },
  {
   "cell_type": "code",
   "execution_count": 19,
   "metadata": {},
   "outputs": [],
   "source": [
    "assert b.ProcessInput('.点菜', '12345678', 'TEST_USER', 'groupId_test')[0].resultStr\n",
    "assert b.ProcessInput('.点菜1d4', '12345678', 'TEST_USER', 'groupId_test')[0].resultStr\n",
    "assert b.ProcessInput('.点菜3', '12345678', 'TEST_USER', 'groupId_test')[0].resultStr\n",
    "assert b.ProcessInput('.点菜5经典', '12345678', 'TEST_USER', 'groupId_test')[0].resultStr\n",
    "assert b.ProcessInput('.点菜 经典/主菜////精灵/黑暗/奢侈', '12345678', 'TEST_USER', 'groupId_test')[0].resultStr"
   ]
  },
  {
   "cell_type": "code",
   "execution_count": 20,
   "metadata": {},
   "outputs": [],
   "source": [
    "assert b.ProcessInput('.今日菜单', '12345678', 'TEST_USER', 'groupId_test')[0].resultStr"
   ]
  },
  {
   "cell_type": "code",
   "execution_count": 26,
   "metadata": {},
   "outputs": [],
   "source": [
    "assert b.ProcessInput('.角色卡模板', '12345678', 'TEST_USER', 'groupId_test')[0].resultStr\n",
    "assert b.ProcessInput('.角色卡录入 \\n姓名:约翰\\nhp:30/30\\n力量:10 敏捷:10 体质:10 智力:10 感知:10 魅力:10\\n熟练加值:2 熟练项:力量豁免/运动\\n额外加值:豁免+1/力量豁免+2/运动+1', '12345678', 'TEST_USER', 'groupId_test')[0].resultStr\n",
    "assert (b.ProcessInput('.角色卡 查看', '12345678', 'TEST_USER', 'groupId_test')[0].resultStr)\n",
    "assert (b.ProcessInput('.角色卡 完整', '12345678', 'TEST_USER', 'groupId_test')[0].resultStr)\n",
    "assert b.ProcessInput('.敏捷检定+4+1d4 躲藏', '12345678', 'TEST_USER', 'groupId_test')[0].resultStr\n",
    "assert b.ProcessInput('.敏捷豁免+2', '12345678', 'TEST_USER', 'groupId_test')[0].resultStr\n",
    "assert b.ProcessInput('.察觉检定', '12345678', 'TEST_USER', 'groupId_test')[0].resultStr\n",
    "assert b.ProcessInput('.角色卡 删除', '12345678', 'TEST_USER', 'groupId_test')[0].resultStr\n",
    "assert b.ProcessInput('.角色卡', '12345678', 'TEST_USER', 'groupId_test')[0].resultStr\n",
    "assert b.ProcessInput('.说服检定', '12345678', 'TEST_USER', 'groupId_test')[0].resultStr"
   ]
  },
  {
   "cell_type": "code",
   "execution_count": 22,
   "metadata": {},
   "outputs": [],
   "source": [
    "# queryDict = {}\n",
    "\n",
    "# fileName = '5E_模组魔法物品_by惠惠'\n",
    "# title = ''\n",
    "# content = ''\n",
    "# with open(f'../资料/{fileName}.txt', 'r', encoding=\"utf-8-sig\") as f:\n",
    "#     data = f.readline().strip()\n",
    "#     while data:\n",
    "#         data = data.strip()\n",
    "#         if not data:\n",
    "#             if title:\n",
    "#                 if len(title) > 20:\n",
    "#                     print(\"Title too long?\"+title+\"##\"+content)\n",
    "#                 elif len(content) < 20:\n",
    "#                     print(\"Content too small?\"+title+\"##\"+content)\n",
    "#                 queryDict[title] = content[:-1]\n",
    "#             title = ''\n",
    "#             content = ''\n",
    "#         else:\n",
    "#             if not title:\n",
    "#                 title = data\n",
    "#             else:\n",
    "#                 content += data.strip() + '\\n'\n",
    "#         data = f.readline()\n",
    "# queryDict[title] = content[:-1]\n",
    "# print(queryDict.keys())\n",
    "# print(queryDict[list(queryDict.keys())[0]])\n",
    "# utils.UpdateJson(queryDict, f'./plugins/custom_data/{fileName}_query.json')"
   ]
  },
  {
   "cell_type": "code",
   "execution_count": 23,
   "metadata": {},
   "outputs": [],
   "source": [
    "# fileName = '狂野魔法浪涌表'\n",
    "# deckDict = {}\n",
    "# deckTitle = ''\n",
    "# deckList = []\n",
    "# with open(f'../资料/牌堆/{fileName}.txt', 'r', encoding=\"utf-8-sig\") as f:\n",
    "#     data = f.readline()\n",
    "#     deckTitle = data.strip()\n",
    "#     data = f.readline().strip()\n",
    "#     while data:\n",
    "#         deckList.append(data)\n",
    "#         data = f.readline().strip()\n",
    "\n",
    "# # print(deckList[0])\n",
    "# deckDict['title'] = deckTitle\n",
    "# deckDict['list'] = deckList\n",
    "# utils.UpdateJson(deckDict, f'./plugins/custom_data/{fileName}_deck.json')\n",
    "# print(deckTitle)\n",
    "# print(len(deckDict['list']))\n",
    "# for i in range(len(deckDict['list'])):\n",
    "#       print(deckDict['list'][i])"
   ]
  },
  {
   "cell_type": "code",
   "execution_count": 24,
   "metadata": {
    "scrolled": true
   },
   "outputs": [],
   "source": [
    "# fileName = '混合菜谱'\n",
    "# cookDict = {}\n",
    "# curName = ''\n",
    "# with open(f'../资料/菜谱/{fileName}.txt', 'r', encoding=\"utf-8-sig\") as f:\n",
    "#     data = f.readline().strip()\n",
    "#     while data:\n",
    "#         data = data.split(':')\n",
    "#         if data[0] == '名称':\n",
    "#             cookDict[data[1]] = {}\n",
    "#             curName = data[1]\n",
    "#         if data[0] == '美味' or data[0] == '难度':\n",
    "#             data[1] = int(data[1])\n",
    "#         if data[0] == '菜系' or data[0] == '种类' or data[0] == '风格':\n",
    "#             data[1] = data[1].split('/')\n",
    "#         cookDict[curName][data[0]] = data[1]\n",
    "#         data = f.readline().strip()\n",
    "#         if data == '':\n",
    "#             data = f.readline().strip()\n",
    "#             cookDict[curName]['关键词'] = cookDict[curName]['菜系'] + cookDict[curName]['种类'] + cookDict[curName]['风格']\n",
    "# print(cookDict)\n",
    "# utils.UpdateJson(cookDict, f'./plugins/custom_data/{fileName}_menu.json')"
   ]
  },
  {
   "cell_type": "code",
   "execution_count": 25,
   "metadata": {},
   "outputs": [],
   "source": [
    "# fileName = '职业表'\n",
    "# result = ''\n",
    "# indexRange = list(range(0,99)) +[0]\n",
    "# index = 0\n",
    "# split = '    '\n",
    "# with open(f'../资料/{fileName}.txt', 'r', encoding=\"utf-8-sig\") as f:\n",
    "#     data = f.readline().strip()\n",
    "#     while data:\n",
    "#         if index in indexRange:\n",
    "#             result += data + split\n",
    "#         index += 1\n",
    "#         data = f.readline().strip()\n",
    "#         if data == '':\n",
    "#             data = f.readline().strip()\n",
    "#             result = result[:-1].strip() + '\\n'\n",
    "#             index = 0\n",
    "# result = result.replace('—', '-')\n",
    "# print(result)"
   ]
  }
 ],
 "metadata": {
  "kernelspec": {
   "display_name": "Python 3",
   "language": "python",
   "name": "python3"
  },
  "language_info": {
   "codemirror_mode": {
    "name": "ipython",
    "version": 3
   },
   "file_extension": ".py",
   "mimetype": "text/x-python",
   "name": "python",
   "nbconvert_exporter": "python",
   "pygments_lexer": "ipython3",
   "version": "3.7.3"
  }
 },
 "nbformat": 4,
 "nbformat_minor": 2
}
